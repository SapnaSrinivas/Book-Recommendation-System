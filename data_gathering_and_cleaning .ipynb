{
 "cells": [
  {
   "cell_type": "markdown",
   "metadata": {},
   "source": [
    "# Capstone Project : Building Book Recommendation System"
   ]
  },
  {
   "cell_type": "markdown",
   "metadata": {},
   "source": [
    "## Problem Statement\n",
    "\n",
    "Sapna Book House, Bangalore is an Indian book Store Chain. It is one of the biggest book shops in India. They sell books Online via www.sapnaonline.com.\n",
    "\n",
    "They want to build the book recommendation engine which converts the shoppers to Customers. They want the recommendation engine to show their customers that they are valued as an individual by showing the options that meet his/her interest. \n",
    "\n",
    "\n",
    "In Data Science , I can express my problem statement as\n",
    "Building Book Recommendation System using Content Based Filtering , User-Item Based Collaborative Filtering and Matrix Factorisation(Truncated SVD algorithm)"
   ]
  },
  {
   "cell_type": "markdown",
   "metadata": {},
   "source": [
    "## Executive Summary\n",
    "\n",
    "Recommendation systems have been keeping my mind occupied for quite a while now and owing to my children's inclination for reading books, building book recommendation system is quite engaging\n",
    "\n",
    "### Recommendation System:\n",
    "Recommendation engine filters the data using different algorithms and recommends the most relevant items to users. It first captures the past behaviour of a customer and based on that, recommends products which the users might be likely to buy.\n",
    "\n",
    "If we can recommend a few items to a customer based on their needs and interests, it will create a positive impact on the user experience and lead to frequent visits.\n",
    "\n",
    "Hence, businesses now a days are building smart and intelligent recommendation engines by studying the past behaviour of their users.\n",
    "\n",
    "My journey to building Book Recommendation System began when I came across Book Crossing dataset. This dataset has been compiled by Cai-Nicolas Ziegler in 2004, and it comprises of three tables for users, books and ratings. Explicit ratings are expressed on a scale range from 1-10(higher values denoting higher appreciation) and implicit rating is expressed by 0.\n",
    "\n",
    "Here Explicit data is information that is provided intentionally i.e, input from the users such as book ratings while the implicit data is information that is not provided intentionally but gathered data streams like search history, clicks, order history, etc.\n"
   ]
  },
  {
   "cell_type": "markdown",
   "metadata": {},
   "source": [
    "The following Data Science Process was carried out.\n",
    "\n",
    "- Problem Statement\n",
    "- Data Collection\n",
    "- Data Cleaning & EDA\n",
    "- Data Visualisation\n",
    "- Content Based Recommendation\n",
    "- Item-Item Based Recommendation\n",
    "- Truncated SVD algorithm\n",
    "- Conclusion and Improvements needed.\n",
    "\n",
    "### Contents:\n",
    "- [Import Libraries](#Import=libraries)\n",
    "- [Load Data](#Load-Data)\n",
    "- [Clean Books Dataset](#Cleaned-Books-Dataset)\n",
    "- [EDA on Books Dataset](#EDA-Books-Dataset)\n",
    "- [Clean Users Dataset](#Cleaned-Users-Dataset)\n",
    "- [EDA on Users Dataset](#EDA-Users-Dataset)\n",
    "- [Clean Ratings Dataset](#Cleaned-Ratings-Dataset)\n",
    "- [EDA Ratings Dataset](#EDA-Ratings-Dataset)"
   ]
  },
  {
   "cell_type": "markdown",
   "metadata": {},
   "source": [
    "Dataset: http://www2.informatik.uni-freiburg.de/~cziegler/BX/"
   ]
  },
  {
   "cell_type": "markdown",
   "metadata": {},
   "source": [
    "First we will load all the necessary libraries"
   ]
  },
  {
   "cell_type": "code",
   "execution_count": 479,
   "metadata": {},
   "outputs": [],
   "source": [
    "import pandas as pd\n",
    "import numpy as np\n",
    "import matplotlib.pyplot as plt\n",
    "import seaborn as sns\n",
    "\n",
    "%matplotlib inline"
   ]
  },
  {
   "cell_type": "markdown",
   "metadata": {},
   "source": [
    "We load the dataset and check the shapes of books, users and ratings dataset as below."
   ]
  },
  {
   "cell_type": "markdown",
   "metadata": {},
   "source": [
    "## Read Dataset with necessary features"
   ]
  },
  {
   "cell_type": "code",
   "execution_count": 480,
   "metadata": {},
   "outputs": [
    {
     "name": "stderr",
     "output_type": "stream",
     "text": [
      "b'Skipping line 6452: expected 8 fields, saw 9\\nSkipping line 43667: expected 8 fields, saw 10\\nSkipping line 51751: expected 8 fields, saw 9\\n'\n",
      "b'Skipping line 92038: expected 8 fields, saw 9\\nSkipping line 104319: expected 8 fields, saw 9\\nSkipping line 121768: expected 8 fields, saw 9\\n'\n",
      "b'Skipping line 144058: expected 8 fields, saw 9\\nSkipping line 150789: expected 8 fields, saw 9\\nSkipping line 157128: expected 8 fields, saw 9\\nSkipping line 180189: expected 8 fields, saw 9\\nSkipping line 185738: expected 8 fields, saw 9\\n'\n",
      "b'Skipping line 209388: expected 8 fields, saw 9\\nSkipping line 220626: expected 8 fields, saw 9\\nSkipping line 227933: expected 8 fields, saw 11\\nSkipping line 228957: expected 8 fields, saw 10\\nSkipping line 245933: expected 8 fields, saw 9\\nSkipping line 251296: expected 8 fields, saw 9\\nSkipping line 259941: expected 8 fields, saw 9\\nSkipping line 261529: expected 8 fields, saw 9\\n'\n",
      "C:\\Users\\sapna\\Anaconda3\\lib\\site-packages\\IPython\\core\\interactiveshell.py:3049: DtypeWarning: Columns (3) have mixed types. Specify dtype option on import or set low_memory=False.\n",
      "  interactivity=interactivity, compiler=compiler, result=result)\n"
     ]
    }
   ],
   "source": [
    "books = pd.read_csv('../Datasets/BX-Books.csv', sep = ';',error_bad_lines = False, encoding = \"latin-1\")"
   ]
  },
  {
   "cell_type": "code",
   "execution_count": 481,
   "metadata": {},
   "outputs": [],
   "source": [
    "books.columns = ['ISBN', 'bookTitle', 'bookAuthor', 'yearOfPublication', 'publisher', 'imageUrlS','imageUrlM', 'imageUrlL' ]"
   ]
  },
  {
   "cell_type": "code",
   "execution_count": 482,
   "metadata": {},
   "outputs": [
    {
     "data": {
      "text/html": [
       "<div>\n",
       "<style scoped>\n",
       "    .dataframe tbody tr th:only-of-type {\n",
       "        vertical-align: middle;\n",
       "    }\n",
       "\n",
       "    .dataframe tbody tr th {\n",
       "        vertical-align: top;\n",
       "    }\n",
       "\n",
       "    .dataframe thead th {\n",
       "        text-align: right;\n",
       "    }\n",
       "</style>\n",
       "<table border=\"1\" class=\"dataframe\">\n",
       "  <thead>\n",
       "    <tr style=\"text-align: right;\">\n",
       "      <th></th>\n",
       "      <th>ISBN</th>\n",
       "      <th>bookTitle</th>\n",
       "      <th>bookAuthor</th>\n",
       "      <th>yearOfPublication</th>\n",
       "      <th>publisher</th>\n",
       "      <th>imageUrlS</th>\n",
       "      <th>imageUrlM</th>\n",
       "      <th>imageUrlL</th>\n",
       "    </tr>\n",
       "  </thead>\n",
       "  <tbody>\n",
       "    <tr>\n",
       "      <th>0</th>\n",
       "      <td>0195153448</td>\n",
       "      <td>Classical Mythology</td>\n",
       "      <td>Mark P. O. Morford</td>\n",
       "      <td>2002</td>\n",
       "      <td>Oxford University Press</td>\n",
       "      <td>http://images.amazon.com/images/P/0195153448.01.THUMBZZZ.jpg</td>\n",
       "      <td>http://images.amazon.com/images/P/0195153448.01.MZZZZZZZ.jpg</td>\n",
       "      <td>http://images.amazon.com/images/P/0195153448.01.LZZZZZZZ.jpg</td>\n",
       "    </tr>\n",
       "    <tr>\n",
       "      <th>1</th>\n",
       "      <td>0002005018</td>\n",
       "      <td>Clara Callan</td>\n",
       "      <td>Richard Bruce Wright</td>\n",
       "      <td>2001</td>\n",
       "      <td>HarperFlamingo Canada</td>\n",
       "      <td>http://images.amazon.com/images/P/0002005018.01.THUMBZZZ.jpg</td>\n",
       "      <td>http://images.amazon.com/images/P/0002005018.01.MZZZZZZZ.jpg</td>\n",
       "      <td>http://images.amazon.com/images/P/0002005018.01.LZZZZZZZ.jpg</td>\n",
       "    </tr>\n",
       "  </tbody>\n",
       "</table>\n",
       "</div>"
      ],
      "text/plain": [
       "         ISBN            bookTitle            bookAuthor yearOfPublication  \\\n",
       "0  0195153448  Classical Mythology  Mark P. O. Morford    2002               \n",
       "1  0002005018  Clara Callan         Richard Bruce Wright  2001               \n",
       "\n",
       "                 publisher  \\\n",
       "0  Oxford University Press   \n",
       "1  HarperFlamingo Canada     \n",
       "\n",
       "                                                      imageUrlS  \\\n",
       "0  http://images.amazon.com/images/P/0195153448.01.THUMBZZZ.jpg   \n",
       "1  http://images.amazon.com/images/P/0002005018.01.THUMBZZZ.jpg   \n",
       "\n",
       "                                                      imageUrlM  \\\n",
       "0  http://images.amazon.com/images/P/0195153448.01.MZZZZZZZ.jpg   \n",
       "1  http://images.amazon.com/images/P/0002005018.01.MZZZZZZZ.jpg   \n",
       "\n",
       "                                                      imageUrlL  \n",
       "0  http://images.amazon.com/images/P/0195153448.01.LZZZZZZZ.jpg  \n",
       "1  http://images.amazon.com/images/P/0002005018.01.LZZZZZZZ.jpg  "
      ]
     },
     "execution_count": 482,
     "metadata": {},
     "output_type": "execute_result"
    }
   ],
   "source": [
    "books.head(2)"
   ]
  },
  {
   "cell_type": "code",
   "execution_count": 483,
   "metadata": {},
   "outputs": [
    {
     "name": "stdout",
     "output_type": "stream",
     "text": [
      "<class 'pandas.core.frame.DataFrame'>\n",
      "RangeIndex: 271360 entries, 0 to 271359\n",
      "Data columns (total 8 columns):\n",
      "ISBN                 271360 non-null object\n",
      "bookTitle            271360 non-null object\n",
      "bookAuthor           271359 non-null object\n",
      "yearOfPublication    271360 non-null object\n",
      "publisher            271358 non-null object\n",
      "imageUrlS            271360 non-null object\n",
      "imageUrlM            271360 non-null object\n",
      "imageUrlL            271357 non-null object\n",
      "dtypes: object(8)\n",
      "memory usage: 16.6+ MB\n"
     ]
    }
   ],
   "source": [
    "books.info()"
   ]
  },
  {
   "cell_type": "markdown",
   "metadata": {},
   "source": [
    "<h2><center>Books Data Dictionary</center></h2>\n",
    "\n",
    "|Feature|Type|Description|\n",
    "|---|---|---|\n",
    "|ISBN|Object|ISBN is the acronym for International Standard Book Number. This 10 or 13-digit number identifies a specific book, an edition of a book, or a book-like product (such as an audiobook)|\n",
    "|BookTitle|Object|The title of a book, or any other published text or work of art, is a name for the work which is usually chosen by the author|\n",
    "|BookAuthor|Object|Who wrote the book|\n",
    "|Year of Publication|Object|The publication date is the date on which a patent application is first published. It is the date on which the document is made available to the public, thereby making it part of the state of the art.|\n",
    "|Publisher|Object|Publishers manage the manuscript editing, design and production process, using a team of editors, proofreaders, graphic designers and printers. They provide schedules for each stage of the process, working backwards from the planned publication date.|\n",
    "|ImageUrlS|Object|The URL is the address that points to the image on the net. With that address, you can insert the image in emails, for example. Identifying and copying an image's URL is easy if you can see the picture, graphic, chart, sketch, or drawing in your browser.|\n",
    "|ImageUrlM|Object|Medium sized URL image|\n",
    "|ImageUrlL|Object|Large sized URL image|"
   ]
  },
  {
   "cell_type": "code",
   "execution_count": 484,
   "metadata": {},
   "outputs": [
    {
     "data": {
      "text/plain": [
       "(271360, 8)"
      ]
     },
     "execution_count": 484,
     "metadata": {},
     "output_type": "execute_result"
    }
   ],
   "source": [
    "books.shape"
   ]
  },
  {
   "cell_type": "code",
   "execution_count": 485,
   "metadata": {},
   "outputs": [],
   "source": [
    "users = pd.read_csv('../Datasets/BX-Users.csv', sep = ';', error_bad_lines = False, encoding = 'latin-1')"
   ]
  },
  {
   "cell_type": "code",
   "execution_count": 486,
   "metadata": {},
   "outputs": [],
   "source": [
    "users.columns = ['userID', 'Location', 'Age']"
   ]
  },
  {
   "cell_type": "code",
   "execution_count": 487,
   "metadata": {},
   "outputs": [
    {
     "data": {
      "text/html": [
       "<div>\n",
       "<style scoped>\n",
       "    .dataframe tbody tr th:only-of-type {\n",
       "        vertical-align: middle;\n",
       "    }\n",
       "\n",
       "    .dataframe tbody tr th {\n",
       "        vertical-align: top;\n",
       "    }\n",
       "\n",
       "    .dataframe thead th {\n",
       "        text-align: right;\n",
       "    }\n",
       "</style>\n",
       "<table border=\"1\" class=\"dataframe\">\n",
       "  <thead>\n",
       "    <tr style=\"text-align: right;\">\n",
       "      <th></th>\n",
       "      <th>userID</th>\n",
       "      <th>Location</th>\n",
       "      <th>Age</th>\n",
       "    </tr>\n",
       "  </thead>\n",
       "  <tbody>\n",
       "    <tr>\n",
       "      <th>0</th>\n",
       "      <td>1</td>\n",
       "      <td>nyc, new york, usa</td>\n",
       "      <td>NaN</td>\n",
       "    </tr>\n",
       "    <tr>\n",
       "      <th>1</th>\n",
       "      <td>2</td>\n",
       "      <td>stockton, california, usa</td>\n",
       "      <td>18.0</td>\n",
       "    </tr>\n",
       "  </tbody>\n",
       "</table>\n",
       "</div>"
      ],
      "text/plain": [
       "   userID                   Location   Age\n",
       "0  1       nyc, new york, usa        NaN  \n",
       "1  2       stockton, california, usa  18.0"
      ]
     },
     "execution_count": 487,
     "metadata": {},
     "output_type": "execute_result"
    }
   ],
   "source": [
    "users.head(2)"
   ]
  },
  {
   "cell_type": "code",
   "execution_count": 488,
   "metadata": {},
   "outputs": [
    {
     "data": {
      "text/plain": [
       "(278858, 3)"
      ]
     },
     "execution_count": 488,
     "metadata": {},
     "output_type": "execute_result"
    }
   ],
   "source": [
    "users.shape"
   ]
  },
  {
   "cell_type": "code",
   "execution_count": 489,
   "metadata": {},
   "outputs": [
    {
     "name": "stdout",
     "output_type": "stream",
     "text": [
      "<class 'pandas.core.frame.DataFrame'>\n",
      "RangeIndex: 278858 entries, 0 to 278857\n",
      "Data columns (total 3 columns):\n",
      "userID      278858 non-null int64\n",
      "Location    278858 non-null object\n",
      "Age         168096 non-null float64\n",
      "dtypes: float64(1), int64(1), object(1)\n",
      "memory usage: 6.4+ MB\n"
     ]
    }
   ],
   "source": [
    "users.info()"
   ]
  },
  {
   "cell_type": "markdown",
   "metadata": {},
   "source": [
    "<h2><center>User Data Dictionary</center></h2>\n",
    "\n",
    "|Feature|Type|Description|\n",
    "|---|---|---|\n",
    "|userID|int64|User ID Numbers is associated with each user name is a user identification number (UID). The UID number identifies the user name to any system on which the user attempts to log in. And, the UID number is used by systems to identify the owners of files and directories|\n",
    "|Location|object|location are used to identify the place where the user stay.|\n",
    "|Age|float|Age of the user|"
   ]
  },
  {
   "cell_type": "code",
   "execution_count": 490,
   "metadata": {},
   "outputs": [],
   "source": [
    "ratings = pd.read_csv('../Datasets/BX-Book-Ratings.csv', sep = ';', error_bad_lines = False, encoding = 'Latin-1')"
   ]
  },
  {
   "cell_type": "code",
   "execution_count": 491,
   "metadata": {},
   "outputs": [],
   "source": [
    "ratings.columns = ['userID', 'ISBN', 'bookRating']"
   ]
  },
  {
   "cell_type": "code",
   "execution_count": 492,
   "metadata": {},
   "outputs": [
    {
     "data": {
      "text/html": [
       "<div>\n",
       "<style scoped>\n",
       "    .dataframe tbody tr th:only-of-type {\n",
       "        vertical-align: middle;\n",
       "    }\n",
       "\n",
       "    .dataframe tbody tr th {\n",
       "        vertical-align: top;\n",
       "    }\n",
       "\n",
       "    .dataframe thead th {\n",
       "        text-align: right;\n",
       "    }\n",
       "</style>\n",
       "<table border=\"1\" class=\"dataframe\">\n",
       "  <thead>\n",
       "    <tr style=\"text-align: right;\">\n",
       "      <th></th>\n",
       "      <th>userID</th>\n",
       "      <th>ISBN</th>\n",
       "      <th>bookRating</th>\n",
       "    </tr>\n",
       "  </thead>\n",
       "  <tbody>\n",
       "    <tr>\n",
       "      <th>0</th>\n",
       "      <td>276725</td>\n",
       "      <td>034545104X</td>\n",
       "      <td>0</td>\n",
       "    </tr>\n",
       "    <tr>\n",
       "      <th>1</th>\n",
       "      <td>276726</td>\n",
       "      <td>0155061224</td>\n",
       "      <td>5</td>\n",
       "    </tr>\n",
       "  </tbody>\n",
       "</table>\n",
       "</div>"
      ],
      "text/plain": [
       "   userID        ISBN  bookRating\n",
       "0  276725  034545104X  0         \n",
       "1  276726  0155061224  5         "
      ]
     },
     "execution_count": 492,
     "metadata": {},
     "output_type": "execute_result"
    }
   ],
   "source": [
    "ratings.head(2)"
   ]
  },
  {
   "cell_type": "code",
   "execution_count": 493,
   "metadata": {},
   "outputs": [
    {
     "data": {
      "text/plain": [
       "(1149780, 3)"
      ]
     },
     "execution_count": 493,
     "metadata": {},
     "output_type": "execute_result"
    }
   ],
   "source": [
    "ratings.shape"
   ]
  },
  {
   "cell_type": "code",
   "execution_count": 494,
   "metadata": {},
   "outputs": [
    {
     "name": "stdout",
     "output_type": "stream",
     "text": [
      "<class 'pandas.core.frame.DataFrame'>\n",
      "RangeIndex: 1149780 entries, 0 to 1149779\n",
      "Data columns (total 3 columns):\n",
      "userID        1149780 non-null int64\n",
      "ISBN          1149780 non-null object\n",
      "bookRating    1149780 non-null int64\n",
      "dtypes: int64(2), object(1)\n",
      "memory usage: 26.3+ MB\n"
     ]
    }
   ],
   "source": [
    "ratings.info()"
   ]
  },
  {
   "cell_type": "markdown",
   "metadata": {},
   "source": [
    "<h2><center>Rating Data Dictionary</center></h2>\n",
    "\n",
    "|Feature|Type|Description|\n",
    "|---|---|---|\n",
    "|userID|int|User ID Numbers is associated with each user name is a user identification number (UID). The UID number identifies the user name to any system on which the user attempts to log in. And, the UID number is used by systems to identify the owners of files and directories|\n",
    "|ISBN|Object|ISBN is the acronym for International Standard Book Number. This 10 or 13-digit number identifies a specific book, an edition of a book, or a book-like product (such as an audiobook)|\n",
    "|Ratings|int|a measurement of how good or popular the book is|\n"
   ]
  },
  {
   "cell_type": "markdown",
   "metadata": {},
   "source": [
    "We can see the dataset is big enough. The amount of data dictates how good the recommendations of the model can get. In a book recommendation system, the more ratings users give to books, the better the recommendation get for other users. \n",
    "\n",
    "Now let's dive in deep to see all the columns in the three dataset."
   ]
  },
  {
   "cell_type": "markdown",
   "metadata": {},
   "source": [
    "# Books\n",
    "Exploring each of these datasets one by one and beginning with books dataset, we can see that image URLs columns do not seem to be required for analysis, and they can be dropped off. "
   ]
  },
  {
   "cell_type": "markdown",
   "metadata": {},
   "source": [
    "## Drop imageUrlS, imageUrlM, imageUrlL columns "
   ]
  },
  {
   "cell_type": "code",
   "execution_count": 495,
   "metadata": {},
   "outputs": [],
   "source": [
    "books.drop(['imageUrlS', 'imageUrlM', 'imageUrlL'], axis = 1, inplace = True)"
   ]
  },
  {
   "cell_type": "code",
   "execution_count": 496,
   "metadata": {},
   "outputs": [
    {
     "data": {
      "text/plain": [
       "Index(['ISBN', 'bookTitle', 'bookAuthor', 'yearOfPublication', 'publisher'], dtype='object')"
      ]
     },
     "execution_count": 496,
     "metadata": {},
     "output_type": "execute_result"
    }
   ],
   "source": [
    "books.columns"
   ]
  },
  {
   "cell_type": "markdown",
   "metadata": {},
   "source": [
    "## Checking for null values of the remaining column"
   ]
  },
  {
   "cell_type": "code",
   "execution_count": 497,
   "metadata": {},
   "outputs": [
    {
     "data": {
      "text/plain": [
       "ISBN                 0\n",
       "bookTitle            0\n",
       "bookAuthor           1\n",
       "yearOfPublication    0\n",
       "publisher            2\n",
       "dtype: int64"
      ]
     },
     "execution_count": 497,
     "metadata": {},
     "output_type": "execute_result"
    }
   ],
   "source": [
    "books.isnull().sum()"
   ]
  },
  {
   "cell_type": "markdown",
   "metadata": {},
   "source": [
    "Looks like there are some null values in author and publisher column. Lets google and find who are the authors and publisher of the respective books and fill the null values."
   ]
  },
  {
   "cell_type": "code",
   "execution_count": 498,
   "metadata": {},
   "outputs": [
    {
     "data": {
      "text/html": [
       "<div>\n",
       "<style scoped>\n",
       "    .dataframe tbody tr th:only-of-type {\n",
       "        vertical-align: middle;\n",
       "    }\n",
       "\n",
       "    .dataframe tbody tr th {\n",
       "        vertical-align: top;\n",
       "    }\n",
       "\n",
       "    .dataframe thead th {\n",
       "        text-align: right;\n",
       "    }\n",
       "</style>\n",
       "<table border=\"1\" class=\"dataframe\">\n",
       "  <thead>\n",
       "    <tr style=\"text-align: right;\">\n",
       "      <th></th>\n",
       "      <th>ISBN</th>\n",
       "      <th>bookTitle</th>\n",
       "      <th>bookAuthor</th>\n",
       "      <th>yearOfPublication</th>\n",
       "      <th>publisher</th>\n",
       "    </tr>\n",
       "  </thead>\n",
       "  <tbody>\n",
       "    <tr>\n",
       "      <th>128890</th>\n",
       "      <td>193169656X</td>\n",
       "      <td>Tyrant Moon</td>\n",
       "      <td>Elaine Corvidae</td>\n",
       "      <td>2002</td>\n",
       "      <td>NaN</td>\n",
       "    </tr>\n",
       "    <tr>\n",
       "      <th>129037</th>\n",
       "      <td>1931696993</td>\n",
       "      <td>Finders Keepers</td>\n",
       "      <td>Linnea Sinclair</td>\n",
       "      <td>2001</td>\n",
       "      <td>NaN</td>\n",
       "    </tr>\n",
       "    <tr>\n",
       "      <th>187689</th>\n",
       "      <td>9627982032</td>\n",
       "      <td>The Credit Suisse Guide to Managing Your Personal Wealth</td>\n",
       "      <td>NaN</td>\n",
       "      <td>1995</td>\n",
       "      <td>Edinburgh Financial Publishing</td>\n",
       "    </tr>\n",
       "  </tbody>\n",
       "</table>\n",
       "</div>"
      ],
      "text/plain": [
       "              ISBN                                                 bookTitle  \\\n",
       "128890  193169656X  Tyrant Moon                                                \n",
       "129037  1931696993  Finders Keepers                                            \n",
       "187689  9627982032  The Credit Suisse Guide to Managing Your Personal Wealth   \n",
       "\n",
       "             bookAuthor yearOfPublication                       publisher  \n",
       "128890  Elaine Corvidae  2002              NaN                             \n",
       "129037  Linnea Sinclair  2001              NaN                             \n",
       "187689  NaN              1995              Edinburgh Financial Publishing  "
      ]
     },
     "execution_count": 498,
     "metadata": {},
     "output_type": "execute_result"
    }
   ],
   "source": [
    "books[books.isna().any(axis = 1)]"
   ]
  },
  {
   "cell_type": "markdown",
   "metadata": {},
   "source": [
    "After googling, we can see that the publisher of Tyrant Moon and Finders Keepers are Mundania Press LLC and Bantam respectively while the author of the The Credit Suisse Guide to Managing Your Person is Steve Cavanagh and hence filled null values. "
   ]
  },
  {
   "cell_type": "code",
   "execution_count": 499,
   "metadata": {},
   "outputs": [],
   "source": [
    "books.loc[books.ISBN == '193169656X','publisher'] = 'Mundania Press LLC'"
   ]
  },
  {
   "cell_type": "code",
   "execution_count": 500,
   "metadata": {},
   "outputs": [],
   "source": [
    "books.loc[books.ISBN == '193169656X','publisher'].fillna('Mundania Press LLC', inplace = True)"
   ]
  },
  {
   "cell_type": "code",
   "execution_count": 501,
   "metadata": {},
   "outputs": [],
   "source": [
    "books.loc[books.ISBN == '1931696993', 'publisher'] = 'Bantam'"
   ]
  },
  {
   "cell_type": "code",
   "execution_count": 502,
   "metadata": {},
   "outputs": [],
   "source": [
    "books.loc[books.ISBN == '9627982032', 'bookAuthor'] = 'Steve Cavanagh'"
   ]
  },
  {
   "cell_type": "code",
   "execution_count": 503,
   "metadata": {},
   "outputs": [
    {
     "data": {
      "text/html": [
       "<div>\n",
       "<style scoped>\n",
       "    .dataframe tbody tr th:only-of-type {\n",
       "        vertical-align: middle;\n",
       "    }\n",
       "\n",
       "    .dataframe tbody tr th {\n",
       "        vertical-align: top;\n",
       "    }\n",
       "\n",
       "    .dataframe thead th {\n",
       "        text-align: right;\n",
       "    }\n",
       "</style>\n",
       "<table border=\"1\" class=\"dataframe\">\n",
       "  <thead>\n",
       "    <tr style=\"text-align: right;\">\n",
       "      <th></th>\n",
       "      <th>ISBN</th>\n",
       "      <th>bookTitle</th>\n",
       "      <th>bookAuthor</th>\n",
       "      <th>yearOfPublication</th>\n",
       "      <th>publisher</th>\n",
       "    </tr>\n",
       "  </thead>\n",
       "  <tbody>\n",
       "  </tbody>\n",
       "</table>\n",
       "</div>"
      ],
      "text/plain": [
       "Empty DataFrame\n",
       "Columns: [ISBN, bookTitle, bookAuthor, yearOfPublication, publisher]\n",
       "Index: []"
      ]
     },
     "execution_count": 503,
     "metadata": {},
     "output_type": "execute_result"
    }
   ],
   "source": [
    "books[books.isna().any(axis = 1)]"
   ]
  },
  {
   "cell_type": "markdown",
   "metadata": {},
   "source": [
    "All the null values are gone."
   ]
  },
  {
   "cell_type": "markdown",
   "metadata": {},
   "source": [
    "### ISBN column\n",
    "Ths ISBN numbers contain some letters and so we cannot covert them to numeric values. Will leave them as strings.\n",
    "To count the unique values of ISBN column. "
   ]
  },
  {
   "cell_type": "code",
   "execution_count": 504,
   "metadata": {},
   "outputs": [
    {
     "data": {
      "text/plain": [
       "271360"
      ]
     },
     "execution_count": 504,
     "metadata": {},
     "output_type": "execute_result"
    }
   ],
   "source": [
    "len(books['ISBN'].unique())"
   ]
  },
  {
   "cell_type": "markdown",
   "metadata": {},
   "source": [
    "We can infer all the values of ISBN are different. We can interpret that the ISBN of all the books in the dataset are different."
   ]
  },
  {
   "cell_type": "markdown",
   "metadata": {},
   "source": [
    "### BookTitle column "
   ]
  },
  {
   "cell_type": "code",
   "execution_count": 505,
   "metadata": {},
   "outputs": [
    {
     "data": {
      "text/plain": [
       "242135"
      ]
     },
     "execution_count": 505,
     "metadata": {},
     "output_type": "execute_result"
    }
   ],
   "source": [
    "len(books['bookTitle'].unique())"
   ]
  },
  {
   "cell_type": "code",
   "execution_count": 506,
   "metadata": {},
   "outputs": [
    {
     "data": {
      "text/plain": [
       "Selected Poems                    27\n",
       "Little Women                      24\n",
       "Wuthering Heights                 21\n",
       "Adventures of Huckleberry Finn    20\n",
       "Dracula                           20\n",
       "The Secret Garden                 20\n",
       "Jane Eyre                         19\n",
       "The Night Before Christmas        18\n",
       "Pride and Prejudice               18\n",
       "Great Expectations                17\n",
       "Name: bookTitle, dtype: int64"
      ]
     },
     "execution_count": 506,
     "metadata": {},
     "output_type": "execute_result"
    }
   ],
   "source": [
    "books['bookTitle'].value_counts()[:10]"
   ]
  },
  {
   "cell_type": "markdown",
   "metadata": {},
   "source": [
    "We dont see any unsual in the two columns."
   ]
  },
  {
   "cell_type": "code",
   "execution_count": 507,
   "metadata": {},
   "outputs": [
    {
     "data": {
      "text/plain": [
       "array([2002, 2001, 1991, 1999, 2000, 1993, 1996, 1988, 2004, 1998, 1994,\n",
       "       2003, 1997, 1983, 1979, 1995, 1982, 1985, 1992, 1986, 1978, 1980,\n",
       "       1952, 1987, 1990, 1981, 1989, 1984, 0, 1968, 1961, 1958, 1974,\n",
       "       1976, 1971, 1977, 1975, 1965, 1941, 1970, 1962, 1973, 1972, 1960,\n",
       "       1966, 1920, 1956, 1959, 1953, 1951, 1942, 1963, 1964, 1969, 1954,\n",
       "       1950, 1967, 2005, 1957, 1940, 1937, 1955, 1946, 1936, 1930, 2011,\n",
       "       1925, 1948, 1943, 1947, 1945, 1923, 2020, 1939, 1926, 1938, 2030,\n",
       "       1911, 1904, 1949, 1932, 1928, 1929, 1927, 1931, 1914, 2050, 1934,\n",
       "       1910, 1933, 1902, 1924, 1921, 1900, 2038, 2026, 1944, 1917, 1901,\n",
       "       2010, 1908, 1906, 1935, 1806, 2021, '2000', '1995', '1999', '2004',\n",
       "       '2003', '1990', '1994', '1986', '1989', '2002', '1981', '1993',\n",
       "       '1983', '1982', '1976', '1991', '1977', '1998', '1992', '1996',\n",
       "       '0', '1997', '2001', '1974', '1968', '1987', '1984', '1988',\n",
       "       '1963', '1956', '1970', '1985', '1978', '1973', '1980', '1979',\n",
       "       '1975', '1969', '1961', '1965', '1939', '1958', '1950', '1953',\n",
       "       '1966', '1971', '1959', '1972', '1955', '1957', '1945', '1960',\n",
       "       '1967', '1932', '1924', '1964', '2012', '1911', '1927', '1948',\n",
       "       '1962', '2006', '1952', '1940', '1951', '1931', '1954', '2005',\n",
       "       '1930', '1941', '1944', 'DK Publishing Inc', '1943', '1938',\n",
       "       '1900', '1942', '1923', '1920', '1933', 'Gallimard', '1909',\n",
       "       '1946', '2008', '1378', '2030', '1936', '1947', '2011', '2020',\n",
       "       '1919', '1949', '1922', '1897', '2024', '1376', '1926', '2037'],\n",
       "      dtype=object)"
      ]
     },
     "execution_count": 507,
     "metadata": {},
     "output_type": "execute_result"
    }
   ],
   "source": [
    "books.yearOfPublication.unique()"
   ]
  },
  {
   "cell_type": "markdown",
   "metadata": {},
   "source": [
    "We can see that the year of Publication is ranging from 0 to 2050. \n",
    "\n",
    "There are some incorrect entries in Year of Publication. Looks like publisher such as DK Publishing Inc and Gallimard have been incorrectly loaded to publishing year and also we can see there are some values which has number '0'.\n",
    "\n",
    "We will check and make necessary corrections one by one and set the data type as integer. "
   ]
  },
  {
   "cell_type": "code",
   "execution_count": 508,
   "metadata": {},
   "outputs": [
    {
     "data": {
      "text/html": [
       "<div>\n",
       "<style scoped>\n",
       "    .dataframe tbody tr th:only-of-type {\n",
       "        vertical-align: middle;\n",
       "    }\n",
       "\n",
       "    .dataframe tbody tr th {\n",
       "        vertical-align: top;\n",
       "    }\n",
       "\n",
       "    .dataframe thead th {\n",
       "        text-align: right;\n",
       "    }\n",
       "</style>\n",
       "<table border=\"1\" class=\"dataframe\">\n",
       "  <thead>\n",
       "    <tr style=\"text-align: right;\">\n",
       "      <th></th>\n",
       "      <th>ISBN</th>\n",
       "      <th>bookTitle</th>\n",
       "      <th>bookAuthor</th>\n",
       "      <th>yearOfPublication</th>\n",
       "      <th>publisher</th>\n",
       "    </tr>\n",
       "  </thead>\n",
       "  <tbody>\n",
       "    <tr>\n",
       "      <th>209538</th>\n",
       "      <td>078946697X</td>\n",
       "      <td>DK Readers: Creating the X-Men, How It All Began (Level 4: Proficient Readers)\\\";Michael Teitelbaum\"</td>\n",
       "      <td>2000</td>\n",
       "      <td>DK Publishing Inc</td>\n",
       "      <td>http://images.amazon.com/images/P/078946697X.01.THUMBZZZ.jpg</td>\n",
       "    </tr>\n",
       "    <tr>\n",
       "      <th>221678</th>\n",
       "      <td>0789466953</td>\n",
       "      <td>DK Readers: Creating the X-Men, How Comic Books Come to Life (Level 4: Proficient Readers)\\\";James Buckley\"</td>\n",
       "      <td>2000</td>\n",
       "      <td>DK Publishing Inc</td>\n",
       "      <td>http://images.amazon.com/images/P/0789466953.01.THUMBZZZ.jpg</td>\n",
       "    </tr>\n",
       "  </tbody>\n",
       "</table>\n",
       "</div>"
      ],
      "text/plain": [
       "              ISBN  \\\n",
       "209538  078946697X   \n",
       "221678  0789466953   \n",
       "\n",
       "                                                                                                          bookTitle  \\\n",
       "209538  DK Readers: Creating the X-Men, How It All Began (Level 4: Proficient Readers)\\\";Michael Teitelbaum\"          \n",
       "221678  DK Readers: Creating the X-Men, How Comic Books Come to Life (Level 4: Proficient Readers)\\\";James Buckley\"   \n",
       "\n",
       "       bookAuthor  yearOfPublication  \\\n",
       "209538  2000       DK Publishing Inc   \n",
       "221678  2000       DK Publishing Inc   \n",
       "\n",
       "                                                           publisher  \n",
       "209538  http://images.amazon.com/images/P/078946697X.01.THUMBZZZ.jpg  \n",
       "221678  http://images.amazon.com/images/P/0789466953.01.THUMBZZZ.jpg  "
      ]
     },
     "execution_count": 508,
     "metadata": {},
     "output_type": "execute_result"
    }
   ],
   "source": [
    "books.loc[books.yearOfPublication == 'DK Publishing Inc', :]"
   ]
  },
  {
   "cell_type": "code",
   "execution_count": 509,
   "metadata": {},
   "outputs": [],
   "source": [
    "books.loc[books.ISBN =='078946697X','yearOfPublication'] = 2000\n",
    "books.loc[books.ISBN == '078946697X','bookAuthor'] = 'Michael Teitelbaum'\n",
    "books.loc[books.ISBN == '078946697X', 'publisher'] = 'DK Publishing Inc'"
   ]
  },
  {
   "cell_type": "code",
   "execution_count": 510,
   "metadata": {},
   "outputs": [],
   "source": [
    "books.loc[books.ISBN =='0789466953','yearOfPublication'] = 2000\n",
    "books.loc[books.ISBN == '0789466953','bookAuthor'] = 'James Buckley'\n",
    "books.loc[books.ISBN == '0789466953', 'publisher'] = 'DK Publishing Inc'"
   ]
  },
  {
   "cell_type": "code",
   "execution_count": 511,
   "metadata": {},
   "outputs": [
    {
     "data": {
      "text/html": [
       "<div>\n",
       "<style scoped>\n",
       "    .dataframe tbody tr th:only-of-type {\n",
       "        vertical-align: middle;\n",
       "    }\n",
       "\n",
       "    .dataframe tbody tr th {\n",
       "        vertical-align: top;\n",
       "    }\n",
       "\n",
       "    .dataframe thead th {\n",
       "        text-align: right;\n",
       "    }\n",
       "</style>\n",
       "<table border=\"1\" class=\"dataframe\">\n",
       "  <thead>\n",
       "    <tr style=\"text-align: right;\">\n",
       "      <th></th>\n",
       "      <th>ISBN</th>\n",
       "      <th>bookTitle</th>\n",
       "      <th>bookAuthor</th>\n",
       "      <th>yearOfPublication</th>\n",
       "      <th>publisher</th>\n",
       "    </tr>\n",
       "  </thead>\n",
       "  <tbody>\n",
       "  </tbody>\n",
       "</table>\n",
       "</div>"
      ],
      "text/plain": [
       "Empty DataFrame\n",
       "Columns: [ISBN, bookTitle, bookAuthor, yearOfPublication, publisher]\n",
       "Index: []"
      ]
     },
     "execution_count": 511,
     "metadata": {},
     "output_type": "execute_result"
    }
   ],
   "source": [
    "books.loc[books.yearOfPublication == 'DK Publishing Inc', :]"
   ]
  },
  {
   "cell_type": "markdown",
   "metadata": {},
   "source": [
    "So, We have put in place all the values properly of DK Publishing Inc. Now lets change the details of Gallimard"
   ]
  },
  {
   "cell_type": "code",
   "execution_count": 512,
   "metadata": {},
   "outputs": [
    {
     "data": {
      "text/html": [
       "<div>\n",
       "<style scoped>\n",
       "    .dataframe tbody tr th:only-of-type {\n",
       "        vertical-align: middle;\n",
       "    }\n",
       "\n",
       "    .dataframe tbody tr th {\n",
       "        vertical-align: top;\n",
       "    }\n",
       "\n",
       "    .dataframe thead th {\n",
       "        text-align: right;\n",
       "    }\n",
       "</style>\n",
       "<table border=\"1\" class=\"dataframe\">\n",
       "  <thead>\n",
       "    <tr style=\"text-align: right;\">\n",
       "      <th></th>\n",
       "      <th>ISBN</th>\n",
       "      <th>bookTitle</th>\n",
       "      <th>bookAuthor</th>\n",
       "      <th>yearOfPublication</th>\n",
       "      <th>publisher</th>\n",
       "    </tr>\n",
       "  </thead>\n",
       "  <tbody>\n",
       "    <tr>\n",
       "      <th>220731</th>\n",
       "      <td>2070426769</td>\n",
       "      <td>Peuple du ciel, suivi de 'Les Bergers\\\";Jean-Marie Gustave Le ClÃ?Â©zio\"</td>\n",
       "      <td>2003</td>\n",
       "      <td>Gallimard</td>\n",
       "      <td>http://images.amazon.com/images/P/2070426769.01.THUMBZZZ.jpg</td>\n",
       "    </tr>\n",
       "  </tbody>\n",
       "</table>\n",
       "</div>"
      ],
      "text/plain": [
       "              ISBN  \\\n",
       "220731  2070426769   \n",
       "\n",
       "                                                                       bookTitle  \\\n",
       "220731  Peuple du ciel, suivi de 'Les Bergers\\\";Jean-Marie Gustave Le ClÃ?Â©zio\"   \n",
       "\n",
       "       bookAuthor yearOfPublication  \\\n",
       "220731  2003       Gallimard          \n",
       "\n",
       "                                                           publisher  \n",
       "220731  http://images.amazon.com/images/P/2070426769.01.THUMBZZZ.jpg  "
      ]
     },
     "execution_count": 512,
     "metadata": {},
     "output_type": "execute_result"
    }
   ],
   "source": [
    "books.loc[books.yearOfPublication == 'Gallimard',:]"
   ]
  },
  {
   "cell_type": "code",
   "execution_count": 513,
   "metadata": {},
   "outputs": [],
   "source": [
    "books.loc[books.ISBN == '2070426769', 'yearOfPublication']= 2003\n",
    "books.loc[books.ISBN == '2070426769', 'publisher']= 'Gallimard'\n",
    "books.loc[books.ISBN == '2070426769', 'bookAuthor']= 'Jean-Marie Gustave Le Clezio '"
   ]
  },
  {
   "cell_type": "code",
   "execution_count": 514,
   "metadata": {},
   "outputs": [
    {
     "data": {
      "text/html": [
       "<div>\n",
       "<style scoped>\n",
       "    .dataframe tbody tr th:only-of-type {\n",
       "        vertical-align: middle;\n",
       "    }\n",
       "\n",
       "    .dataframe tbody tr th {\n",
       "        vertical-align: top;\n",
       "    }\n",
       "\n",
       "    .dataframe thead th {\n",
       "        text-align: right;\n",
       "    }\n",
       "</style>\n",
       "<table border=\"1\" class=\"dataframe\">\n",
       "  <thead>\n",
       "    <tr style=\"text-align: right;\">\n",
       "      <th></th>\n",
       "      <th>ISBN</th>\n",
       "      <th>bookTitle</th>\n",
       "      <th>bookAuthor</th>\n",
       "      <th>yearOfPublication</th>\n",
       "      <th>publisher</th>\n",
       "    </tr>\n",
       "  </thead>\n",
       "  <tbody>\n",
       "  </tbody>\n",
       "</table>\n",
       "</div>"
      ],
      "text/plain": [
       "Empty DataFrame\n",
       "Columns: [ISBN, bookTitle, bookAuthor, yearOfPublication, publisher]\n",
       "Index: []"
      ]
     },
     "execution_count": 514,
     "metadata": {},
     "output_type": "execute_result"
    }
   ],
   "source": [
    "books.loc[books.yearOfPublication == 'Gallimard',:]"
   ]
  },
  {
   "cell_type": "code",
   "execution_count": 515,
   "metadata": {},
   "outputs": [],
   "source": [
    "books.yearOfPublication=pd.to_numeric(books.yearOfPublication)"
   ]
  },
  {
   "cell_type": "code",
   "execution_count": 516,
   "metadata": {},
   "outputs": [],
   "source": [
    "zero_yr= books[books.yearOfPublication == 0].yearOfPublication.count()\n",
    "nan_yr= books.yearOfPublication.isnull().sum()"
   ]
  },
  {
   "cell_type": "code",
   "execution_count": 517,
   "metadata": {},
   "outputs": [
    {
     "name": "stdout",
     "output_type": "stream",
     "text": [
      " There are 4618 entries as '0', and 0 NaN entries in the Year of Publication field\n"
     ]
    }
   ],
   "source": [
    "print(f' There are {zero_yr} entries as \\'0\\', and {nan_yr} NaN entries in the Year of Publication field')"
   ]
  },
  {
   "cell_type": "code",
   "execution_count": 518,
   "metadata": {},
   "outputs": [],
   "source": [
    "# Replace all years of zero with NaN\n",
    "books.yearOfPublication.replace(0, np.nan, inplace=True)"
   ]
  },
  {
   "cell_type": "code",
   "execution_count": 519,
   "metadata": {},
   "outputs": [
    {
     "data": {
      "image/png": "[encoded data removed]",
      "text/plain": [
       "<Figure size 1440x720 with 1 Axes>"
      ]
     },
     "metadata": {
      "needs_background": "light"
     },
     "output_type": "display_data"
    }
   ],
   "source": [
    "yr = books.yearOfPublication.value_counts().sort_index()\n",
    "yr = yr.where(yr>5) # filter out counts less than 5\n",
    "plt.figure(figsize=(20, 10))\n",
    "plt.rcParams.update({'font.size': 15}) # Set larger plot font size\n",
    "plt.bar(yr.index, yr.values)\n",
    "plt.xlabel('Year of Publication')\n",
    "plt.ylabel('counts')\n",
    "plt.show()"
   ]
  },
  {
   "cell_type": "markdown",
   "metadata": {},
   "source": [
    "Note that in the plot above we filtered out counts less than 5, as there are a few books in the dataset with publication years in the 1300s, and a few in the future (?!). The plot above show the general trend that more recent books are much more frequent.\n",
    "\n",
    "Let's take a look at some of those 'outlier' books. Maybe we'll even keep them as a separate dataset so we can filter them out if we need to later in the analysis. We'll leave them in for now, and then figure out how to handle them once we have more info later on."
   ]
  },
  {
   "cell_type": "code",
   "execution_count": 520,
   "metadata": {},
   "outputs": [
    {
     "data": {
      "text/html": [
       "<div>\n",
       "<style scoped>\n",
       "    .dataframe tbody tr th:only-of-type {\n",
       "        vertical-align: middle;\n",
       "    }\n",
       "\n",
       "    .dataframe tbody tr th {\n",
       "        vertical-align: top;\n",
       "    }\n",
       "\n",
       "    .dataframe thead th {\n",
       "        text-align: right;\n",
       "    }\n",
       "</style>\n",
       "<table border=\"1\" class=\"dataframe\">\n",
       "  <thead>\n",
       "    <tr style=\"text-align: right;\">\n",
       "      <th></th>\n",
       "      <th>ISBN</th>\n",
       "      <th>bookTitle</th>\n",
       "      <th>bookAuthor</th>\n",
       "      <th>yearOfPublication</th>\n",
       "      <th>publisher</th>\n",
       "    </tr>\n",
       "  </thead>\n",
       "  <tbody>\n",
       "    <tr>\n",
       "      <th>171817</th>\n",
       "      <td>0781228956</td>\n",
       "      <td>Complete Works 10 Volumes [2,6,7,8,9] (Notable American Authors)</td>\n",
       "      <td>Benjamin Franklin</td>\n",
       "      <td>1806.0</td>\n",
       "      <td>Reprint Services Corp</td>\n",
       "    </tr>\n",
       "    <tr>\n",
       "      <th>227531</th>\n",
       "      <td>9643112136</td>\n",
       "      <td>Dalan-i bihisht (Dastan-i Irani)</td>\n",
       "      <td>Nazi Safavi</td>\n",
       "      <td>1378.0</td>\n",
       "      <td>Intisharat-i Quqnus</td>\n",
       "    </tr>\n",
       "    <tr>\n",
       "      <th>245607</th>\n",
       "      <td>0781268001</td>\n",
       "      <td>Hugh Wynne, Free Quaker (2 Volumes (BCL1-PS American Literature)</td>\n",
       "      <td>Silas Weir Mitchell</td>\n",
       "      <td>1897.0</td>\n",
       "      <td>Reprint Services Corp</td>\n",
       "    </tr>\n",
       "    <tr>\n",
       "      <th>253750</th>\n",
       "      <td>964442011X</td>\n",
       "      <td>Tasht-i khun</td>\n",
       "      <td>IsmaÂ°il Fasih</td>\n",
       "      <td>1376.0</td>\n",
       "      <td>Nashr-i Alburz</td>\n",
       "    </tr>\n",
       "  </tbody>\n",
       "</table>\n",
       "</div>"
      ],
      "text/plain": [
       "              ISBN  \\\n",
       "171817  0781228956   \n",
       "227531  9643112136   \n",
       "245607  0781268001   \n",
       "253750  964442011X   \n",
       "\n",
       "                                                               bookTitle  \\\n",
       "171817  Complete Works 10 Volumes [2,6,7,8,9] (Notable American Authors)   \n",
       "227531  Dalan-i bihisht (Dastan-i Irani)                                   \n",
       "245607  Hugh Wynne, Free Quaker (2 Volumes (BCL1-PS American Literature)   \n",
       "253750  Tasht-i khun                                                       \n",
       "\n",
       "                 bookAuthor  yearOfPublication              publisher  \n",
       "171817  Benjamin Franklin    1806.0             Reprint Services Corp  \n",
       "227531  Nazi Safavi          1378.0             Intisharat-i Quqnus    \n",
       "245607  Silas Weir Mitchell  1897.0             Reprint Services Corp  \n",
       "253750  IsmaÂ°il Fasih       1376.0             Nashr-i Alburz         "
      ]
     },
     "execution_count": 520,
     "metadata": {},
     "output_type": "execute_result"
    }
   ],
   "source": [
    "historical_books = books[books.yearOfPublication<1900]\n",
    "historical_books"
   ]
  },
  {
   "cell_type": "code",
   "execution_count": 521,
   "metadata": {},
   "outputs": [],
   "source": [
    "books.loc[books.ISBN =='9643112136','yearOfPublication'] = 2010\n",
    "books.loc[books.ISBN =='0781268001','yearOfPublication'] = 2002\n"
   ]
  },
  {
   "cell_type": "code",
   "execution_count": 522,
   "metadata": {},
   "outputs": [
    {
     "data": {
      "text/html": [
       "<div>\n",
       "<style scoped>\n",
       "    .dataframe tbody tr th:only-of-type {\n",
       "        vertical-align: middle;\n",
       "    }\n",
       "\n",
       "    .dataframe tbody tr th {\n",
       "        vertical-align: top;\n",
       "    }\n",
       "\n",
       "    .dataframe thead th {\n",
       "        text-align: right;\n",
       "    }\n",
       "</style>\n",
       "<table border=\"1\" class=\"dataframe\">\n",
       "  <thead>\n",
       "    <tr style=\"text-align: right;\">\n",
       "      <th></th>\n",
       "      <th>ISBN</th>\n",
       "      <th>bookTitle</th>\n",
       "      <th>bookAuthor</th>\n",
       "      <th>yearOfPublication</th>\n",
       "      <th>publisher</th>\n",
       "    </tr>\n",
       "  </thead>\n",
       "  <tbody>\n",
       "    <tr>\n",
       "      <th>171817</th>\n",
       "      <td>0781228956</td>\n",
       "      <td>Complete Works 10 Volumes [2,6,7,8,9] (Notable American Authors)</td>\n",
       "      <td>Benjamin Franklin</td>\n",
       "      <td>1806.0</td>\n",
       "      <td>Reprint Services Corp</td>\n",
       "    </tr>\n",
       "    <tr>\n",
       "      <th>253750</th>\n",
       "      <td>964442011X</td>\n",
       "      <td>Tasht-i khun</td>\n",
       "      <td>IsmaÂ°il Fasih</td>\n",
       "      <td>1376.0</td>\n",
       "      <td>Nashr-i Alburz</td>\n",
       "    </tr>\n",
       "  </tbody>\n",
       "</table>\n",
       "</div>"
      ],
      "text/plain": [
       "              ISBN  \\\n",
       "171817  0781228956   \n",
       "253750  964442011X   \n",
       "\n",
       "                                                               bookTitle  \\\n",
       "171817  Complete Works 10 Volumes [2,6,7,8,9] (Notable American Authors)   \n",
       "253750  Tasht-i khun                                                       \n",
       "\n",
       "               bookAuthor  yearOfPublication              publisher  \n",
       "171817  Benjamin Franklin  1806.0             Reprint Services Corp  \n",
       "253750  IsmaÂ°il Fasih     1376.0             Nashr-i Alburz         "
      ]
     },
     "execution_count": 522,
     "metadata": {},
     "output_type": "execute_result"
    }
   ],
   "source": [
    "historical_books = books[books.yearOfPublication<1900]\n",
    "historical_books"
   ]
  },
  {
   "cell_type": "code",
   "execution_count": 523,
   "metadata": {},
   "outputs": [
    {
     "data": {
      "text/html": [
       "<div>\n",
       "<style scoped>\n",
       "    .dataframe tbody tr th:only-of-type {\n",
       "        vertical-align: middle;\n",
       "    }\n",
       "\n",
       "    .dataframe tbody tr th {\n",
       "        vertical-align: top;\n",
       "    }\n",
       "\n",
       "    .dataframe thead th {\n",
       "        text-align: right;\n",
       "    }\n",
       "</style>\n",
       "<table border=\"1\" class=\"dataframe\">\n",
       "  <thead>\n",
       "    <tr style=\"text-align: right;\">\n",
       "      <th></th>\n",
       "      <th>ISBN</th>\n",
       "      <th>bookTitle</th>\n",
       "      <th>bookAuthor</th>\n",
       "      <th>yearOfPublication</th>\n",
       "      <th>publisher</th>\n",
       "    </tr>\n",
       "  </thead>\n",
       "  <tbody>\n",
       "    <tr>\n",
       "      <th>30010</th>\n",
       "      <td>068160204X</td>\n",
       "      <td>The Royals</td>\n",
       "      <td>Kitty Kelley</td>\n",
       "      <td>2020.0</td>\n",
       "      <td>Bausch &amp;amp; Lombard</td>\n",
       "    </tr>\n",
       "    <tr>\n",
       "      <th>37487</th>\n",
       "      <td>0671746103</td>\n",
       "      <td>MY TEACHER FRIED MY BRAINS (RACK SIZE) (MY TEACHER BOOKS)</td>\n",
       "      <td>Coville</td>\n",
       "      <td>2030.0</td>\n",
       "      <td>Aladdin</td>\n",
       "    </tr>\n",
       "  </tbody>\n",
       "</table>\n",
       "</div>"
      ],
      "text/plain": [
       "             ISBN                                                  bookTitle  \\\n",
       "30010  068160204X  The Royals                                                  \n",
       "37487  0671746103  MY TEACHER FRIED MY BRAINS (RACK SIZE) (MY TEACHER BOOKS)   \n",
       "\n",
       "         bookAuthor  yearOfPublication             publisher  \n",
       "30010  Kitty Kelley  2020.0             Bausch &amp; Lombard  \n",
       "37487  Coville       2030.0             Aladdin               "
      ]
     },
     "execution_count": 523,
     "metadata": {},
     "output_type": "execute_result"
    }
   ],
   "source": [
    "books_from_the_future = books[books.yearOfPublication>2018]\n",
    "books_from_the_future.head(2)"
   ]
  },
  {
   "cell_type": "code",
   "execution_count": 524,
   "metadata": {},
   "outputs": [],
   "source": [
    "books.loc[books.ISBN =='068160204X','yearOfPublication'] = 2010\n",
    "books.loc[books.ISBN =='0671746103','yearOfPublication'] = 1991\n",
    "books.loc[books.ISBN =='0671791990','yearOfPublication'] = 2005\n",
    "books.loc[books.ISBN =='0870449842','yearOfPublication'] = 1994\n",
    "books.loc[books.ISBN =='0140301690','yearOfPublication'] = 2012\n",
    "books.loc[books.ISBN =='068107468X','yearOfPublication'] = 2009\n",
    "books.loc[books.ISBN =='0140201092','yearOfPublication'] = 1950\n",
    "books.loc[books.ISBN =='0394701658','yearOfPublication'] = 1952\n",
    "books.loc[books.ISBN =='3442436893','yearOfPublication'] = 2009\n",
    "books.loc[books.ISBN =='0590085417','yearOfPublication'] = 2009\n",
    "books.loc[books.ISBN =='0870446924','yearOfPublication'] = 2003\n",
    "books.loc[books.ISBN =='0671266500','yearOfPublication'] = 2004\n",
    "books.loc[books.ISBN =='068471941X','yearOfPublication'] = 1929\n",
    "books.loc[books.ISBN =='0684718022','yearOfPublication'] = 1986\n",
    "books.loc[books.ISBN =='0380000059','yearOfPublication'] = 2013\n",
    "books.loc[books.ISBN =='068471809X','yearOfPublication'] = 1937\n",
    "books.loc[books.ISBN =='0671740989','yearOfPublication'] = 1991\n",
    "\n"
   ]
  },
  {
   "cell_type": "code",
   "execution_count": 525,
   "metadata": {},
   "outputs": [
    {
     "data": {
      "text/html": [
       "<div>\n",
       "<style scoped>\n",
       "    .dataframe tbody tr th:only-of-type {\n",
       "        vertical-align: middle;\n",
       "    }\n",
       "\n",
       "    .dataframe tbody tr th {\n",
       "        vertical-align: top;\n",
       "    }\n",
       "\n",
       "    .dataframe thead th {\n",
       "        text-align: right;\n",
       "    }\n",
       "</style>\n",
       "<table border=\"1\" class=\"dataframe\">\n",
       "  <thead>\n",
       "    <tr style=\"text-align: right;\">\n",
       "      <th></th>\n",
       "      <th>ISBN</th>\n",
       "      <th>bookTitle</th>\n",
       "      <th>bookAuthor</th>\n",
       "      <th>yearOfPublication</th>\n",
       "      <th>publisher</th>\n",
       "    </tr>\n",
       "  </thead>\n",
       "  <tbody>\n",
       "  </tbody>\n",
       "</table>\n",
       "</div>"
      ],
      "text/plain": [
       "Empty DataFrame\n",
       "Columns: [ISBN, bookTitle, bookAuthor, yearOfPublication, publisher]\n",
       "Index: []"
      ]
     },
     "execution_count": 525,
     "metadata": {},
     "output_type": "execute_result"
    }
   ],
   "source": [
    "books_from_the_future = books[books.yearOfPublication>2018]\n",
    "books_from_the_future                              "
   ]
  },
  {
   "cell_type": "markdown",
   "metadata": {},
   "source": [
    "I think we can probably omit the 'historical_books' as they may potentially skew the model and do not seem to have much relevance to the wider userbase.\n",
    "\n",
    "I have googled all the history and future books and change the year of publication accordingly."
   ]
  },
  {
   "cell_type": "code",
   "execution_count": 526,
   "metadata": {},
   "outputs": [
    {
     "name": "stdout",
     "output_type": "stream",
     "text": [
      "Length of books dataset before removal: 271360\n",
      "Length of books dataset after removal: 271358\n"
     ]
    }
   ],
   "source": [
    "print(f'Length of books dataset before removal: {len(books)}')\n",
    "books = books.loc[~(books.ISBN.isin(historical_books.ISBN))] # remove historical books\n",
    "\n",
    "print(f'Length of books dataset after removal: {len(books)}')"
   ]
  },
  {
   "cell_type": "markdown",
   "metadata": {},
   "source": [
    "### Publisher"
   ]
  },
  {
   "cell_type": "code",
   "execution_count": 527,
   "metadata": {},
   "outputs": [
    {
     "data": {
      "text/plain": [
       "Harlequin                   7535\n",
       "Silhouette                  4220\n",
       "Pocket                      3905\n",
       "Ballantine Books            3783\n",
       "Bantam Books                3646\n",
       "Scholastic                  3160\n",
       "Simon &amp; Schuster        2971\n",
       "Penguin Books               2844\n",
       "Berkley Publishing Group    2771\n",
       "Warner Books                2727\n",
       "Name: publisher, dtype: int64"
      ]
     },
     "execution_count": 527,
     "metadata": {},
     "output_type": "execute_result"
    }
   ],
   "source": [
    "books.publisher.value_counts()[:10]"
   ]
  },
  {
   "cell_type": "code",
   "execution_count": 528,
   "metadata": {},
   "outputs": [],
   "source": [
    "books.publisher = books.publisher.str.replace('&amp', '&', regex = False)\n"
   ]
  },
  {
   "cell_type": "code",
   "execution_count": 529,
   "metadata": {},
   "outputs": [
    {
     "name": "stdout",
     "output_type": "stream",
     "text": [
      "No. of unique books: 271358 | All book entries: 271358\n"
     ]
    }
   ],
   "source": [
    "uniq_books = books.ISBN.nunique()\n",
    "all_books = books.ISBN.count()\n",
    "print(f'No. of unique books: {uniq_books} | All book entries: {all_books}')"
   ]
  },
  {
   "cell_type": "markdown",
   "metadata": {},
   "source": [
    "Let's look at the most frequent Publishing houses in the dataset."
   ]
  },
  {
   "cell_type": "code",
   "execution_count": 530,
   "metadata": {},
   "outputs": [
    {
     "name": "stdout",
     "output_type": "stream",
     "text": [
      "The 10 publishers with the most entries in the books table are:\n",
      "Harlequin                   7535\n",
      "Silhouette                  4220\n",
      "Pocket                      3905\n",
      "Ballantine Books            3783\n",
      "Bantam Books                3646\n",
      "Scholastic                  3160\n",
      "Simon &; Schuster           2971\n",
      "Penguin Books               2844\n",
      "Berkley Publishing Group    2771\n",
      "Warner Books                2727\n",
      "Name: publisher, dtype: int64\n"
     ]
    }
   ],
   "source": [
    "top_publishers = books.publisher.value_counts()[:10]\n",
    "print(f'The 10 publishers with the most entries in the books table are:\\n{top_publishers}')"
   ]
  },
  {
   "cell_type": "code",
   "execution_count": 531,
   "metadata": {},
   "outputs": [
    {
     "name": "stdout",
     "output_type": "stream",
     "text": [
      "There are 0 entries with empty strings, and 0 NaN entries in the Publisher field\n"
     ]
    }
   ],
   "source": [
    "empty_string_publisher = books[books.publisher == ''].publisher.count()\n",
    "nan_publisher = books.publisher.isnull().sum()\n",
    "print(f'There are {empty_string_publisher} entries with empty strings, and {nan_publisher} NaN entries in the Publisher field')"
   ]
  },
  {
   "cell_type": "markdown",
   "metadata": {},
   "source": [
    "## Book Author\n"
   ]
  },
  {
   "cell_type": "code",
   "execution_count": 532,
   "metadata": {},
   "outputs": [
    {
     "name": "stdout",
     "output_type": "stream",
     "text": [
      "There are 0 entries with empty strings, and 0 NaN entries in the Author field\n"
     ]
    }
   ],
   "source": [
    "empty_string_author = books[books.bookAuthor == ''].bookAuthor.count()\n",
    "nan_author = books.bookAuthor.isnull().sum()\n",
    "print(f'There are {empty_string_author} entries with empty strings, and {nan_author} NaN entries in the Author field')"
   ]
  },
  {
   "cell_type": "markdown",
   "metadata": {},
   "source": [
    "What about authors with the most entries?"
   ]
  },
  {
   "cell_type": "code",
   "execution_count": 533,
   "metadata": {},
   "outputs": [
    {
     "name": "stdout",
     "output_type": "stream",
     "text": [
      "The 10 authors with the most entries in the books table are:\n",
      "Agatha Christie        632\n",
      "William Shakespeare    567\n",
      "Stephen King           524\n",
      "Ann M. Martin          423\n",
      "Carolyn Keene          373\n",
      "Francine Pascal        372\n",
      "Isaac Asimov           330\n",
      "Nora Roberts           315\n",
      "Barbara Cartland       307\n",
      "Charles Dickens        302\n",
      "Name: bookAuthor, dtype: int64\n"
     ]
    }
   ],
   "source": [
    "top_authors = books.bookAuthor.value_counts()[:10]\n",
    "print(f'The 10 authors with the most entries in the books table are:\\n{top_authors}')"
   ]
  },
  {
   "cell_type": "markdown",
   "metadata": {},
   "source": [
    "## Book titles"
   ]
  },
  {
   "cell_type": "code",
   "execution_count": 534,
   "metadata": {},
   "outputs": [
    {
     "name": "stdout",
     "output_type": "stream",
     "text": [
      "The 10 book titles with the most entries in the books table are:\n",
      "Selected Poems                    27\n",
      "Little Women                      24\n",
      "Wuthering Heights                 21\n",
      "The Secret Garden                 20\n",
      "Dracula                           20\n",
      "Adventures of Huckleberry Finn    20\n",
      "Jane Eyre                         19\n",
      "The Night Before Christmas        18\n",
      "Pride and Prejudice               18\n",
      "Great Expectations                17\n",
      "Name: bookTitle, dtype: int64\n"
     ]
    }
   ],
   "source": [
    "top_titles = books.bookTitle.value_counts()[:10]\n",
    "print(f'The 10 book titles with the most entries in the books table are:\\n{top_titles}')"
   ]
  },
  {
   "cell_type": "markdown",
   "metadata": {},
   "source": [
    "This is actually quite an important observation. Although all of the ISBN entries are unique in the 'books' dataframe, different forms of the same book will have different ISBNs - i.e. paperback, e-book, etc. Therefore, we can see that some books have multiple ISBN entries (e.g. Little Women  has 24 different ISBNs, each corresponding to a different version of the book).\n",
    "\n",
    "Let's take a look at, for example, the entries for 'Little Women'."
   ]
  },
  {
   "cell_type": "code",
   "execution_count": 535,
   "metadata": {},
   "outputs": [
    {
     "data": {
      "text/html": [
       "<div>\n",
       "<style scoped>\n",
       "    .dataframe tbody tr th:only-of-type {\n",
       "        vertical-align: middle;\n",
       "    }\n",
       "\n",
       "    .dataframe tbody tr th {\n",
       "        vertical-align: top;\n",
       "    }\n",
       "\n",
       "    .dataframe thead th {\n",
       "        text-align: right;\n",
       "    }\n",
       "</style>\n",
       "<table border=\"1\" class=\"dataframe\">\n",
       "  <thead>\n",
       "    <tr style=\"text-align: right;\">\n",
       "      <th></th>\n",
       "      <th>ISBN</th>\n",
       "      <th>bookTitle</th>\n",
       "      <th>bookAuthor</th>\n",
       "      <th>yearOfPublication</th>\n",
       "      <th>publisher</th>\n",
       "    </tr>\n",
       "  </thead>\n",
       "  <tbody>\n",
       "    <tr>\n",
       "      <th>3952</th>\n",
       "      <td>185854176X</td>\n",
       "      <td>Little Women</td>\n",
       "      <td>Louisa M. Atcott</td>\n",
       "      <td>1995.0</td>\n",
       "      <td>Brimax Books Ltd</td>\n",
       "    </tr>\n",
       "    <tr>\n",
       "      <th>4330</th>\n",
       "      <td>0861782356</td>\n",
       "      <td>Little Women</td>\n",
       "      <td>Louisa May Alcott</td>\n",
       "      <td>NaN</td>\n",
       "      <td>Octopus Publising Group Plc</td>\n",
       "    </tr>\n",
       "    <tr>\n",
       "      <th>12227</th>\n",
       "      <td>0590203509</td>\n",
       "      <td>Little Women</td>\n",
       "      <td>Louisa May Alcott</td>\n",
       "      <td>1994.0</td>\n",
       "      <td>Scholastic</td>\n",
       "    </tr>\n",
       "    <tr>\n",
       "      <th>20676</th>\n",
       "      <td>0440447682</td>\n",
       "      <td>Little Women</td>\n",
       "      <td>Louisa May Alcott</td>\n",
       "      <td>1990.0</td>\n",
       "      <td>Yearling Books</td>\n",
       "    </tr>\n",
       "    <tr>\n",
       "      <th>32837</th>\n",
       "      <td>1550134140</td>\n",
       "      <td>Little Women</td>\n",
       "      <td>Louisa May Alcott</td>\n",
       "      <td>NaN</td>\n",
       "      <td>Firefly Books Ltd</td>\n",
       "    </tr>\n",
       "    <tr>\n",
       "      <th>52210</th>\n",
       "      <td>0451529308</td>\n",
       "      <td>Little Women</td>\n",
       "      <td>Louisa May Alcott</td>\n",
       "      <td>2004.0</td>\n",
       "      <td>Signet Classics</td>\n",
       "    </tr>\n",
       "    <tr>\n",
       "      <th>52551</th>\n",
       "      <td>0451518144</td>\n",
       "      <td>Little Women</td>\n",
       "      <td>Louisa May Alcott</td>\n",
       "      <td>1983.0</td>\n",
       "      <td>Signet Book</td>\n",
       "    </tr>\n",
       "    <tr>\n",
       "      <th>53358</th>\n",
       "      <td>0590437976</td>\n",
       "      <td>Little Women</td>\n",
       "      <td>Louisa May Alcott</td>\n",
       "      <td>1992.0</td>\n",
       "      <td>Scholastic</td>\n",
       "    </tr>\n",
       "    <tr>\n",
       "      <th>57432</th>\n",
       "      <td>0195813898</td>\n",
       "      <td>Little Women</td>\n",
       "      <td>Alcott</td>\n",
       "      <td>1985.0</td>\n",
       "      <td>Oxford University Press</td>\n",
       "    </tr>\n",
       "    <tr>\n",
       "      <th>72168</th>\n",
       "      <td>0785788727</td>\n",
       "      <td>Little Women</td>\n",
       "      <td>Louisa May Alcott</td>\n",
       "      <td>1999.0</td>\n",
       "      <td>Sagebrush Bound</td>\n",
       "    </tr>\n",
       "    <tr>\n",
       "      <th>82565</th>\n",
       "      <td>0448110199</td>\n",
       "      <td>Little Women</td>\n",
       "      <td>Louisa May Alcott</td>\n",
       "      <td>1981.0</td>\n",
       "      <td>Grosset &amp;; Dunlap</td>\n",
       "    </tr>\n",
       "    <tr>\n",
       "      <th>84807</th>\n",
       "      <td>0812523334</td>\n",
       "      <td>Little Women</td>\n",
       "      <td>Louisa May Alcott</td>\n",
       "      <td>1994.0</td>\n",
       "      <td>Tor Books</td>\n",
       "    </tr>\n",
       "    <tr>\n",
       "      <th>110746</th>\n",
       "      <td>0394562798</td>\n",
       "      <td>Little Women</td>\n",
       "      <td>Louisa May Alcott</td>\n",
       "      <td>1988.0</td>\n",
       "      <td>Alfred A. Knopf</td>\n",
       "    </tr>\n",
       "    <tr>\n",
       "      <th>118219</th>\n",
       "      <td>1557042160</td>\n",
       "      <td>Little Women</td>\n",
       "      <td>Laurie Lawlor</td>\n",
       "      <td>1994.0</td>\n",
       "      <td>Newmarket Press</td>\n",
       "    </tr>\n",
       "    <tr>\n",
       "      <th>124841</th>\n",
       "      <td>0590433423</td>\n",
       "      <td>Little Women</td>\n",
       "      <td>Louisa May Alcott</td>\n",
       "      <td>1989.0</td>\n",
       "      <td>Scholastic</td>\n",
       "    </tr>\n",
       "    <tr>\n",
       "      <th>142261</th>\n",
       "      <td>0448054663</td>\n",
       "      <td>Little Women</td>\n",
       "      <td>Louisa May Alcott</td>\n",
       "      <td>1970.0</td>\n",
       "      <td>Price Stern Sloan Pub (J)</td>\n",
       "    </tr>\n",
       "    <tr>\n",
       "      <th>142302</th>\n",
       "      <td>0448023644</td>\n",
       "      <td>Little Women</td>\n",
       "      <td>Louisa May Alcott</td>\n",
       "      <td>1976.0</td>\n",
       "      <td>Price Stern Sloan Pub (J)</td>\n",
       "    </tr>\n",
       "    <tr>\n",
       "      <th>142305</th>\n",
       "      <td>0590404989</td>\n",
       "      <td>Little Women</td>\n",
       "      <td>Louisa May Alcott</td>\n",
       "      <td>1987.0</td>\n",
       "      <td>Scholastic</td>\n",
       "    </tr>\n",
       "    <tr>\n",
       "      <th>163547</th>\n",
       "      <td>0681400552</td>\n",
       "      <td>Little Women</td>\n",
       "      <td>Louisa May Alcott</td>\n",
       "      <td>1986.0</td>\n",
       "      <td>Borders Press</td>\n",
       "    </tr>\n",
       "    <tr>\n",
       "      <th>168782</th>\n",
       "      <td>1593081081</td>\n",
       "      <td>Little Women</td>\n",
       "      <td>Louisa May Alcott</td>\n",
       "      <td>2004.0</td>\n",
       "      <td>Barnes &amp;; Noble Books-Imports</td>\n",
       "    </tr>\n",
       "    <tr>\n",
       "      <th>189663</th>\n",
       "      <td>1568651198</td>\n",
       "      <td>Little Women</td>\n",
       "      <td>Louisa May Alcott</td>\n",
       "      <td>1995.0</td>\n",
       "      <td>Doubleday Books</td>\n",
       "    </tr>\n",
       "    <tr>\n",
       "      <th>212771</th>\n",
       "      <td>0553211153</td>\n",
       "      <td>Little Women</td>\n",
       "      <td>Louisa May Alcott</td>\n",
       "      <td>1983.0</td>\n",
       "      <td>Bantam</td>\n",
       "    </tr>\n",
       "    <tr>\n",
       "      <th>224559</th>\n",
       "      <td>0448172569</td>\n",
       "      <td>Little Women</td>\n",
       "      <td>Louisa May Alcott</td>\n",
       "      <td>1978.0</td>\n",
       "      <td>Berkley Pub Group (Mm)</td>\n",
       "    </tr>\n",
       "    <tr>\n",
       "      <th>258053</th>\n",
       "      <td>0590225375</td>\n",
       "      <td>Little Women</td>\n",
       "      <td>Louisa May Alcott</td>\n",
       "      <td>1994.0</td>\n",
       "      <td>Little Brown and Company</td>\n",
       "    </tr>\n",
       "  </tbody>\n",
       "</table>\n",
       "</div>"
      ],
      "text/plain": [
       "              ISBN     bookTitle         bookAuthor  yearOfPublication  \\\n",
       "3952    185854176X  Little Women  Louisa M. Atcott   1995.0              \n",
       "4330    0861782356  Little Women  Louisa May Alcott NaN                  \n",
       "12227   0590203509  Little Women  Louisa May Alcott  1994.0              \n",
       "20676   0440447682  Little Women  Louisa May Alcott  1990.0              \n",
       "32837   1550134140  Little Women  Louisa May Alcott NaN                  \n",
       "52210   0451529308  Little Women  Louisa May Alcott  2004.0              \n",
       "52551   0451518144  Little Women  Louisa May Alcott  1983.0              \n",
       "53358   0590437976  Little Women  Louisa May Alcott  1992.0              \n",
       "57432   0195813898  Little Women  Alcott             1985.0              \n",
       "72168   0785788727  Little Women  Louisa May Alcott  1999.0              \n",
       "82565   0448110199  Little Women  Louisa May Alcott  1981.0              \n",
       "84807   0812523334  Little Women  Louisa May Alcott  1994.0              \n",
       "110746  0394562798  Little Women  Louisa May Alcott  1988.0              \n",
       "118219  1557042160  Little Women  Laurie Lawlor      1994.0              \n",
       "124841  0590433423  Little Women  Louisa May Alcott  1989.0              \n",
       "142261  0448054663  Little Women  Louisa May Alcott  1970.0              \n",
       "142302  0448023644  Little Women  Louisa May Alcott  1976.0              \n",
       "142305  0590404989  Little Women  Louisa May Alcott  1987.0              \n",
       "163547  0681400552  Little Women  Louisa May Alcott  1986.0              \n",
       "168782  1593081081  Little Women  Louisa May Alcott  2004.0              \n",
       "189663  1568651198  Little Women  Louisa May Alcott  1995.0              \n",
       "212771  0553211153  Little Women  Louisa May Alcott  1983.0              \n",
       "224559  0448172569  Little Women  Louisa May Alcott  1978.0              \n",
       "258053  0590225375  Little Women  Louisa May Alcott  1994.0              \n",
       "\n",
       "                            publisher  \n",
       "3952    Brimax Books Ltd               \n",
       "4330    Octopus Publising Group Plc    \n",
       "12227   Scholastic                     \n",
       "20676   Yearling Books                 \n",
       "32837   Firefly Books Ltd              \n",
       "52210   Signet Classics                \n",
       "52551   Signet Book                    \n",
       "53358   Scholastic                     \n",
       "57432   Oxford University Press        \n",
       "72168   Sagebrush Bound                \n",
       "82565   Grosset &; Dunlap              \n",
       "84807   Tor Books                      \n",
       "110746  Alfred A. Knopf                \n",
       "118219  Newmarket Press                \n",
       "124841  Scholastic                     \n",
       "142261  Price Stern Sloan Pub (J)      \n",
       "142302  Price Stern Sloan Pub (J)      \n",
       "142305  Scholastic                     \n",
       "163547  Borders Press                  \n",
       "168782  Barnes &; Noble Books-Imports  \n",
       "189663  Doubleday Books                \n",
       "212771  Bantam                         \n",
       "224559  Berkley Pub Group (Mm)         \n",
       "258053  Little Brown and Company       "
      ]
     },
     "execution_count": 535,
     "metadata": {},
     "output_type": "execute_result"
    }
   ],
   "source": [
    "books[books.bookTitle == \"Little Women\"]"
   ]
  },
  {
   "cell_type": "markdown",
   "metadata": {},
   "source": [
    "## Users Dataset\n",
    "\n",
    "Now we will explore users dataset, firstly by checking its shape, first few columns and data types"
   ]
  },
  {
   "cell_type": "code",
   "execution_count": 536,
   "metadata": {},
   "outputs": [
    {
     "data": {
      "text/html": [
       "<div>\n",
       "<style scoped>\n",
       "    .dataframe tbody tr th:only-of-type {\n",
       "        vertical-align: middle;\n",
       "    }\n",
       "\n",
       "    .dataframe tbody tr th {\n",
       "        vertical-align: top;\n",
       "    }\n",
       "\n",
       "    .dataframe thead th {\n",
       "        text-align: right;\n",
       "    }\n",
       "</style>\n",
       "<table border=\"1\" class=\"dataframe\">\n",
       "  <thead>\n",
       "    <tr style=\"text-align: right;\">\n",
       "      <th></th>\n",
       "      <th>userID</th>\n",
       "      <th>Location</th>\n",
       "      <th>Age</th>\n",
       "    </tr>\n",
       "  </thead>\n",
       "  <tbody>\n",
       "    <tr>\n",
       "      <th>0</th>\n",
       "      <td>1</td>\n",
       "      <td>nyc, new york, usa</td>\n",
       "      <td>NaN</td>\n",
       "    </tr>\n",
       "    <tr>\n",
       "      <th>1</th>\n",
       "      <td>2</td>\n",
       "      <td>stockton, california, usa</td>\n",
       "      <td>18.0</td>\n",
       "    </tr>\n",
       "  </tbody>\n",
       "</table>\n",
       "</div>"
      ],
      "text/plain": [
       "   userID                   Location   Age\n",
       "0  1       nyc, new york, usa        NaN  \n",
       "1  2       stockton, california, usa  18.0"
      ]
     },
     "execution_count": 536,
     "metadata": {},
     "output_type": "execute_result"
    }
   ],
   "source": [
    "users.head(2)"
   ]
  },
  {
   "cell_type": "markdown",
   "metadata": {},
   "source": [
    "The user_ID field is integers, Locations are strings and the age values are floats."
   ]
  },
  {
   "cell_type": "code",
   "execution_count": 537,
   "metadata": {},
   "outputs": [
    {
     "name": "stdout",
     "output_type": "stream",
     "text": [
      "[nan, 0.0, 1.0, 2.0, 3.0, 4.0, 5.0, 6.0, 7.0, 8.0, 9.0, 10.0, 11.0, 12.0, 13.0, 14.0, 15.0, 16.0, 17.0, 18.0, 19.0, 20.0, 21.0, 22.0, 23.0, 24.0, 25.0, 26.0, 27.0, 28.0, 29.0, 30.0, 31.0, 32.0, 33.0, 34.0, 35.0, 36.0, 37.0, 38.0, 39.0, 40.0, 41.0, 42.0, 43.0, 44.0, 45.0, 46.0, 47.0, 48.0, 49.0, 50.0, 51.0, 52.0, 53.0, 54.0, 55.0, 56.0, 57.0, 58.0, 59.0, 60.0, 61.0, 62.0, 63.0, 64.0, 65.0, 66.0, 67.0, 68.0, 69.0, 70.0, 71.0, 72.0, 73.0, 74.0, 75.0, 76.0, 77.0, 78.0, 79.0, 80.0, 81.0, 82.0, 83.0, 84.0, 85.0, 86.0, 87.0, 88.0, 89.0, 90.0, 91.0, 92.0, 93.0, 94.0, 95.0, 96.0, 97.0, 98.0, 99.0, 100.0, 101.0, 102.0, 103.0, 104.0, 105.0, 106.0, 107.0, 108.0, 109.0, 110.0, 111.0, 113.0, 114.0, 115.0, 116.0, 118.0, 119.0, 123.0, 124.0, 127.0, 128.0, 132.0, 133.0, 136.0, 137.0, 138.0, 140.0, 141.0, 143.0, 146.0, 147.0, 148.0, 151.0, 152.0, 156.0, 157.0, 159.0, 162.0, 168.0, 172.0, 175.0, 183.0, 186.0, 189.0, 199.0, 200.0, 201.0, 204.0, 207.0, 208.0, 209.0, 210.0, 212.0, 219.0, 220.0, 223.0, 226.0, 228.0, 229.0, 230.0, 231.0, 237.0, 239.0, 244.0]\n"
     ]
    }
   ],
   "source": [
    "print(sorted(users.Age.unique()))"
   ]
  },
  {
   "cell_type": "markdown",
   "metadata": {},
   "source": [
    "The age range goes from 0 to 244 years old. Obviously these cannot be true. I'll set all ages less than 5 and older than 100 to NaN to try keep them realistic. Since, I am not considering the age as my feature for modelling, i will leave the unrealisitic ages as NaN values. "
   ]
  },
  {
   "cell_type": "code",
   "execution_count": 538,
   "metadata": {},
   "outputs": [],
   "source": [
    "users.loc[(users.Age < 5) | (users.Age > 100), 'Age'] = np.nan"
   ]
  },
  {
   "cell_type": "markdown",
   "metadata": {},
   "source": [
    "Now let's have a look at the entire age range again"
   ]
  },
  {
   "cell_type": "code",
   "execution_count": 539,
   "metadata": {},
   "outputs": [
    {
     "name": "stdout",
     "output_type": "stream",
     "text": [
      "[nan, 5.0, 6.0, 7.0, 8.0, 9.0, 10.0, 11.0, 12.0, 13.0, 14.0, 15.0, 16.0, 17.0, 18.0, 19.0, 20.0, 21.0, 22.0, 23.0, 24.0, 25.0, 26.0, 27.0, 28.0, 29.0, 30.0, 31.0, 32.0, 33.0, 34.0, 35.0, 36.0, 37.0, 38.0, 39.0, 40.0, 41.0, 42.0, 43.0, 44.0, 45.0, 46.0, 47.0, 48.0, 49.0, 50.0, 51.0, 52.0, 53.0, 54.0, 55.0, 56.0, 57.0, 58.0, 59.0, 60.0, 61.0, 62.0, 63.0, 64.0, 65.0, 66.0, 67.0, 68.0, 69.0, 70.0, 71.0, 72.0, 73.0, 74.0, 75.0, 76.0, 77.0, 78.0, 79.0, 80.0, 81.0, 82.0, 83.0, 84.0, 85.0, 86.0, 87.0, 88.0, 89.0, 90.0, 91.0, 92.0, 93.0, 94.0, 95.0, 96.0, 97.0, 98.0, 99.0, 100.0]\n"
     ]
    }
   ],
   "source": [
    "print(sorted(users.Age.unique()))"
   ]
  },
  {
   "cell_type": "markdown",
   "metadata": {},
   "source": [
    "Much better - now the ages go from 5 to 100, with missing values entered as NaN. Let's plot this to see how they are distributed."
   ]
  },
  {
   "cell_type": "code",
   "execution_count": 540,
   "metadata": {},
   "outputs": [
    {
     "data": {
      "image/png": "[encoded data removed]",
      "text/plain": [
       "<Figure size 864x432 with 1 Axes>"
      ]
     },
     "metadata": {
      "needs_background": "light"
     },
     "output_type": "display_data"
    }
   ],
   "source": [
    "# First create a histogram of the Age field\n",
    "ax = users.Age.hist(bins = 10, figsize = (12,6))\n",
    "ax.set_xlabel('Age')\n",
    "ax.set_ylabel('counts')\n",
    "ax.set_xticks(range(0,110,10))\n",
    "plt.show()"
   ]
  },
  {
   "cell_type": "markdown",
   "metadata": {},
   "source": [
    "Below is the same plot without any binning - i.e. each age is represented individually."
   ]
  },
  {
   "cell_type": "code",
   "execution_count": 541,
   "metadata": {},
   "outputs": [
    {
     "data": {
      "image/png": "[encoded data removed]",
      "text/plain": [
       "<Figure size 1440x720 with 1 Axes>"
      ]
     },
     "metadata": {
      "needs_background": "light"
     },
     "output_type": "display_data"
    }
   ],
   "source": [
    "u = users.Age.value_counts().sort_index()\n",
    "plt.figure(figsize = (20,10))\n",
    "plt.rcParams.update({'font.size' : 15})\n",
    "plt.bar(u.index , u.values)\n",
    "plt.xlabel('Age')\n",
    "plt.ylabel('Counts')\n",
    "plt.show()\n"
   ]
  },
  {
   "cell_type": "markdown",
   "metadata": {},
   "source": [
    "That is more clear to me! It seems that most of our reviewers are in their late 20s to early 30s."
   ]
  },
  {
   "cell_type": "markdown",
   "metadata": {},
   "source": [
    "## Location"
   ]
  },
  {
   "cell_type": "markdown",
   "metadata": {},
   "source": [
    "Let us split the location column into city, state and country for some pre processing."
   ]
  },
  {
   "cell_type": "code",
   "execution_count": 542,
   "metadata": {},
   "outputs": [],
   "source": [
    "#Note: Used Pandas Series.str.split method as it has an 'expand' parameter which can handle None cases\n",
    "user_location_expanded = users.Location.str.split(',', 2, expand = True)\n",
    "user_location_expanded.columns = ['city', 'state','country']\n",
    "users = users.join(user_location_expanded)\n"
   ]
  },
  {
   "cell_type": "code",
   "execution_count": 543,
   "metadata": {},
   "outputs": [
    {
     "data": {
      "text/html": [
       "<div>\n",
       "<style scoped>\n",
       "    .dataframe tbody tr th:only-of-type {\n",
       "        vertical-align: middle;\n",
       "    }\n",
       "\n",
       "    .dataframe tbody tr th {\n",
       "        vertical-align: top;\n",
       "    }\n",
       "\n",
       "    .dataframe thead th {\n",
       "        text-align: right;\n",
       "    }\n",
       "</style>\n",
       "<table border=\"1\" class=\"dataframe\">\n",
       "  <thead>\n",
       "    <tr style=\"text-align: right;\">\n",
       "      <th></th>\n",
       "      <th>userID</th>\n",
       "      <th>Age</th>\n",
       "      <th>city</th>\n",
       "      <th>state</th>\n",
       "      <th>country</th>\n",
       "    </tr>\n",
       "  </thead>\n",
       "  <tbody>\n",
       "    <tr>\n",
       "      <th>0</th>\n",
       "      <td>1</td>\n",
       "      <td>NaN</td>\n",
       "      <td>nyc</td>\n",
       "      <td>new york</td>\n",
       "      <td>usa</td>\n",
       "    </tr>\n",
       "    <tr>\n",
       "      <th>1</th>\n",
       "      <td>2</td>\n",
       "      <td>18.0</td>\n",
       "      <td>stockton</td>\n",
       "      <td>california</td>\n",
       "      <td>usa</td>\n",
       "    </tr>\n",
       "    <tr>\n",
       "      <th>2</th>\n",
       "      <td>3</td>\n",
       "      <td>NaN</td>\n",
       "      <td>moscow</td>\n",
       "      <td>yukon territory</td>\n",
       "      <td>russia</td>\n",
       "    </tr>\n",
       "    <tr>\n",
       "      <th>3</th>\n",
       "      <td>4</td>\n",
       "      <td>17.0</td>\n",
       "      <td>porto</td>\n",
       "      <td>v.n.gaia</td>\n",
       "      <td>portugal</td>\n",
       "    </tr>\n",
       "    <tr>\n",
       "      <th>4</th>\n",
       "      <td>5</td>\n",
       "      <td>NaN</td>\n",
       "      <td>farnborough</td>\n",
       "      <td>hants</td>\n",
       "      <td>united kingdom</td>\n",
       "    </tr>\n",
       "  </tbody>\n",
       "</table>\n",
       "</div>"
      ],
      "text/plain": [
       "   userID   Age         city             state          country\n",
       "0  1      NaN    nyc           new york          usa           \n",
       "1  2       18.0  stockton      california        usa           \n",
       "2  3      NaN    moscow        yukon territory   russia        \n",
       "3  4       17.0  porto         v.n.gaia          portugal      \n",
       "4  5      NaN    farnborough   hants             united kingdom"
      ]
     },
     "execution_count": 543,
     "metadata": {},
     "output_type": "execute_result"
    }
   ],
   "source": [
    "users.drop(columns = ['Location'], inplace = True)\n",
    "users.head()"
   ]
  },
  {
   "cell_type": "code",
   "execution_count": 544,
   "metadata": {},
   "outputs": [
    {
     "name": "stdout",
     "output_type": "stream",
     "text": [
      "The 10 cities with the most users are :\n",
      "london       4105\n",
      "barcelona    2664\n",
      "toronto      2342\n",
      "madrid       1933\n",
      "sydney       1884\n",
      "portland     1869\n",
      "melbourne    1863\n",
      "vancouver    1699\n",
      "chicago      1566\n",
      "seattle      1541\n",
      "Name: city, dtype: int64\n"
     ]
    }
   ],
   "source": [
    "top_cities = users.city.value_counts()[:10]\n",
    "print(f'The 10 cities with the most users are :\\n{top_cities}')"
   ]
  },
  {
   "cell_type": "code",
   "execution_count": 545,
   "metadata": {},
   "outputs": [
    {
     "data": {
      "image/png": "[encoded data removed]",
      "text/plain": [
       "<Figure size 864x432 with 1 Axes>"
      ]
     },
     "metadata": {
      "needs_background": "light"
     },
     "output_type": "display_data"
    }
   ],
   "source": [
    "cities = top_cities.sort_index()\n",
    "plt.figure(figsize = (12,6))\n",
    "plt.rcParams.update({'font.size' : 10})\n",
    "plt.bar(cities.index , cities.values)\n",
    "plt.xlabel('Cities')\n",
    "plt.ylabel('Counts')\n",
    "plt.show()"
   ]
  },
  {
   "cell_type": "code",
   "execution_count": 546,
   "metadata": {},
   "outputs": [
    {
     "name": "stdout",
     "output_type": "stream",
     "text": [
      "The 10 countries with the most users are:\n",
      " usa               139183\n",
      " canada            21556 \n",
      " united kingdom    18286 \n",
      " germany           17021 \n",
      " spain             13088 \n",
      " australia         11719 \n",
      " italy             11238 \n",
      "                   4561  \n",
      " france            3440  \n",
      " portugal          3305  \n",
      "Name: country, dtype: int64\n"
     ]
    }
   ],
   "source": [
    "top_countries = users.country.value_counts()[:10]\n",
    "print(f'The 10 countries with the most users are:\\n{top_countries}')"
   ]
  },
  {
   "cell_type": "code",
   "execution_count": 547,
   "metadata": {},
   "outputs": [
    {
     "data": {
      "image/png": "[encoded data removed]",
      "text/plain": [
       "<Figure size 864x432 with 1 Axes>"
      ]
     },
     "metadata": {
      "needs_background": "light"
     },
     "output_type": "display_data"
    }
   ],
   "source": [
    "country = top_countries.sort_index()\n",
    "plt.figure(figsize = (12,6))\n",
    "plt.rcParams.update({'font.size' : 10})\n",
    "plt.bar(country.index , country.values)\n",
    "plt.xlabel('Country')\n",
    "plt.ylabel('Counts')\n",
    "plt.show()"
   ]
  },
  {
   "cell_type": "markdown",
   "metadata": {},
   "source": [
    "It looks like an empty 'Country field is in the top 10 most common entries."
   ]
  },
  {
   "cell_type": "code",
   "execution_count": 548,
   "metadata": {},
   "outputs": [
    {
     "data": {
      "text/html": [
       "<div>\n",
       "<style scoped>\n",
       "    .dataframe tbody tr th:only-of-type {\n",
       "        vertical-align: middle;\n",
       "    }\n",
       "\n",
       "    .dataframe tbody tr th {\n",
       "        vertical-align: top;\n",
       "    }\n",
       "\n",
       "    .dataframe thead th {\n",
       "        text-align: right;\n",
       "    }\n",
       "</style>\n",
       "<table border=\"1\" class=\"dataframe\">\n",
       "  <thead>\n",
       "    <tr style=\"text-align: right;\">\n",
       "      <th></th>\n",
       "      <th>userID</th>\n",
       "      <th>Age</th>\n",
       "      <th>city</th>\n",
       "      <th>state</th>\n",
       "      <th>country</th>\n",
       "    </tr>\n",
       "  </thead>\n",
       "  <tbody>\n",
       "    <tr>\n",
       "      <th>18</th>\n",
       "      <td>19</td>\n",
       "      <td>14.0</td>\n",
       "      <td>weston</td>\n",
       "      <td></td>\n",
       "      <td></td>\n",
       "    </tr>\n",
       "    <tr>\n",
       "      <th>90</th>\n",
       "      <td>91</td>\n",
       "      <td>NaN</td>\n",
       "      <td>toronto/newmarket</td>\n",
       "      <td></td>\n",
       "      <td></td>\n",
       "    </tr>\n",
       "    <tr>\n",
       "      <th>311</th>\n",
       "      <td>312</td>\n",
       "      <td>NaN</td>\n",
       "      <td>lk</td>\n",
       "      <td>jlk</td>\n",
       "      <td></td>\n",
       "    </tr>\n",
       "    <tr>\n",
       "      <th>317</th>\n",
       "      <td>318</td>\n",
       "      <td>NaN</td>\n",
       "      <td>berlin</td>\n",
       "      <td>n/a</td>\n",
       "      <td></td>\n",
       "    </tr>\n",
       "    <tr>\n",
       "      <th>536</th>\n",
       "      <td>537</td>\n",
       "      <td>NaN</td>\n",
       "      <td>davis</td>\n",
       "      <td>california</td>\n",
       "      <td></td>\n",
       "    </tr>\n",
       "  </tbody>\n",
       "</table>\n",
       "</div>"
      ],
      "text/plain": [
       "     userID   Age               city        state country\n",
       "18   19      14.0  weston                                \n",
       "90   91     NaN    toronto/newmarket                     \n",
       "311  312    NaN    lk                  jlk               \n",
       "317  318    NaN    berlin              n/a               \n",
       "536  537    NaN    davis               california        "
      ]
     },
     "execution_count": 548,
     "metadata": {},
     "output_type": "execute_result"
    }
   ],
   "source": [
    "users[users.country == ''][:5]"
   ]
  },
  {
   "cell_type": "markdown",
   "metadata": {},
   "source": [
    "We can change the values of the empty strings of the country by looking at the city and state but there are 4561 rows and filling it up individally will be time consuming. As we are not using this as the feature for modelling, we will probably change these empty strings to NaNs."
   ]
  },
  {
   "cell_type": "markdown",
   "metadata": {},
   "source": [
    "## Ratings Dataset"
   ]
  },
  {
   "cell_type": "code",
   "execution_count": 549,
   "metadata": {},
   "outputs": [
    {
     "data": {
      "text/html": [
       "<div>\n",
       "<style scoped>\n",
       "    .dataframe tbody tr th:only-of-type {\n",
       "        vertical-align: middle;\n",
       "    }\n",
       "\n",
       "    .dataframe tbody tr th {\n",
       "        vertical-align: top;\n",
       "    }\n",
       "\n",
       "    .dataframe thead th {\n",
       "        text-align: right;\n",
       "    }\n",
       "</style>\n",
       "<table border=\"1\" class=\"dataframe\">\n",
       "  <thead>\n",
       "    <tr style=\"text-align: right;\">\n",
       "      <th></th>\n",
       "      <th>userID</th>\n",
       "      <th>ISBN</th>\n",
       "      <th>bookRating</th>\n",
       "    </tr>\n",
       "  </thead>\n",
       "  <tbody>\n",
       "    <tr>\n",
       "      <th>0</th>\n",
       "      <td>276725</td>\n",
       "      <td>034545104X</td>\n",
       "      <td>0</td>\n",
       "    </tr>\n",
       "    <tr>\n",
       "      <th>1</th>\n",
       "      <td>276726</td>\n",
       "      <td>0155061224</td>\n",
       "      <td>5</td>\n",
       "    </tr>\n",
       "    <tr>\n",
       "      <th>2</th>\n",
       "      <td>276727</td>\n",
       "      <td>0446520802</td>\n",
       "      <td>0</td>\n",
       "    </tr>\n",
       "    <tr>\n",
       "      <th>3</th>\n",
       "      <td>276729</td>\n",
       "      <td>052165615X</td>\n",
       "      <td>3</td>\n",
       "    </tr>\n",
       "    <tr>\n",
       "      <th>4</th>\n",
       "      <td>276729</td>\n",
       "      <td>0521795028</td>\n",
       "      <td>6</td>\n",
       "    </tr>\n",
       "  </tbody>\n",
       "</table>\n",
       "</div>"
      ],
      "text/plain": [
       "   userID        ISBN  bookRating\n",
       "0  276725  034545104X  0         \n",
       "1  276726  0155061224  5         \n",
       "2  276727  0446520802  0         \n",
       "3  276729  052165615X  3         \n",
       "4  276729  0521795028  6         "
      ]
     },
     "execution_count": 549,
     "metadata": {},
     "output_type": "execute_result"
    }
   ],
   "source": [
    "ratings.head()"
   ]
  },
  {
   "cell_type": "code",
   "execution_count": 550,
   "metadata": {},
   "outputs": [
    {
     "data": {
      "text/plain": [
       "(1149780, 3)"
      ]
     },
     "execution_count": 550,
     "metadata": {},
     "output_type": "execute_result"
    }
   ],
   "source": [
    "ratings.shape"
   ]
  },
  {
   "cell_type": "code",
   "execution_count": 551,
   "metadata": {},
   "outputs": [
    {
     "data": {
      "text/plain": [
       "userID        0\n",
       "ISBN          0\n",
       "bookRating    0\n",
       "dtype: int64"
      ]
     },
     "execution_count": 551,
     "metadata": {},
     "output_type": "execute_result"
    }
   ],
   "source": [
    "ratings.isnull().sum()"
   ]
  },
  {
   "cell_type": "code",
   "execution_count": 552,
   "metadata": {},
   "outputs": [
    {
     "data": {
      "image/png": "[encoded data removed]",
      "text/plain": [
       "<Figure size 720x360 with 1 Axes>"
      ]
     },
     "metadata": {
      "needs_background": "light"
     },
     "output_type": "display_data"
    }
   ],
   "source": [
    "rtg = ratings['bookRating'].value_counts().sort_index()\n",
    "\n",
    "plt.figure(figsize = (10,5))\n",
    "plt.rcParams.update({'font.size' : 15})\n",
    "plt.bar(rtg.index, rtg.values)\n",
    "plt.xlabel('Rating')\n",
    "plt.ylabel('Counts')\n",
    "plt.show()"
   ]
  },
  {
   "cell_type": "code",
   "execution_count": 553,
   "metadata": {},
   "outputs": [
    {
     "data": {
      "text/plain": [
       "0     716109\n",
       "8     103736\n",
       "10    78610 \n",
       "7     76457 \n",
       "9     67541 \n",
       "5     50974 \n",
       "6     36924 \n",
       "4     8904  \n",
       "3     5996  \n",
       "2     2759  \n",
       "1     1770  \n",
       "Name: bookRating, dtype: int64"
      ]
     },
     "execution_count": 553,
     "metadata": {},
     "output_type": "execute_result"
    }
   ],
   "source": [
    "ratings.bookRating.value_counts()"
   ]
  },
  {
   "cell_type": "markdown",
   "metadata": {},
   "source": [
    "We can see nearly 716 thousand bookrating has 0 values which shows implict ratings"
   ]
  },
  {
   "cell_type": "code",
   "execution_count": 554,
   "metadata": {},
   "outputs": [
    {
     "data": {
      "text/html": [
       "<div>\n",
       "<style scoped>\n",
       "    .dataframe tbody tr th:only-of-type {\n",
       "        vertical-align: middle;\n",
       "    }\n",
       "\n",
       "    .dataframe tbody tr th {\n",
       "        vertical-align: top;\n",
       "    }\n",
       "\n",
       "    .dataframe thead th {\n",
       "        text-align: right;\n",
       "    }\n",
       "</style>\n",
       "<table border=\"1\" class=\"dataframe\">\n",
       "  <thead>\n",
       "    <tr style=\"text-align: right;\">\n",
       "      <th></th>\n",
       "      <th>userID</th>\n",
       "      <th>ISBN</th>\n",
       "      <th>bookRating</th>\n",
       "    </tr>\n",
       "  </thead>\n",
       "  <tbody>\n",
       "    <tr>\n",
       "      <th>0</th>\n",
       "      <td>276725</td>\n",
       "      <td>034545104X</td>\n",
       "      <td>0</td>\n",
       "    </tr>\n",
       "    <tr>\n",
       "      <th>1</th>\n",
       "      <td>276726</td>\n",
       "      <td>0155061224</td>\n",
       "      <td>5</td>\n",
       "    </tr>\n",
       "    <tr>\n",
       "      <th>2</th>\n",
       "      <td>276727</td>\n",
       "      <td>0446520802</td>\n",
       "      <td>0</td>\n",
       "    </tr>\n",
       "    <tr>\n",
       "      <th>3</th>\n",
       "      <td>276729</td>\n",
       "      <td>052165615X</td>\n",
       "      <td>3</td>\n",
       "    </tr>\n",
       "    <tr>\n",
       "      <th>4</th>\n",
       "      <td>276729</td>\n",
       "      <td>0521795028</td>\n",
       "      <td>6</td>\n",
       "    </tr>\n",
       "  </tbody>\n",
       "</table>\n",
       "</div>"
      ],
      "text/plain": [
       "   userID        ISBN  bookRating\n",
       "0  276725  034545104X  0         \n",
       "1  276726  0155061224  5         \n",
       "2  276727  0446520802  0         \n",
       "3  276729  052165615X  3         \n",
       "4  276729  0521795028  6         "
      ]
     },
     "execution_count": 554,
     "metadata": {},
     "output_type": "execute_result"
    }
   ],
   "source": [
    "ratings_new = ratings[ratings.ISBN.isin(books.ISBN)]\n",
    "ratings_new.head()"
   ]
  },
  {
   "cell_type": "code",
   "execution_count": 555,
   "metadata": {},
   "outputs": [
    {
     "data": {
      "text/html": [
       "<div>\n",
       "<style scoped>\n",
       "    .dataframe tbody tr th:only-of-type {\n",
       "        vertical-align: middle;\n",
       "    }\n",
       "\n",
       "    .dataframe tbody tr th {\n",
       "        vertical-align: top;\n",
       "    }\n",
       "\n",
       "    .dataframe thead th {\n",
       "        text-align: right;\n",
       "    }\n",
       "</style>\n",
       "<table border=\"1\" class=\"dataframe\">\n",
       "  <thead>\n",
       "    <tr style=\"text-align: right;\">\n",
       "      <th></th>\n",
       "      <th>userID</th>\n",
       "      <th>ISBN</th>\n",
       "      <th>bookRating</th>\n",
       "    </tr>\n",
       "  </thead>\n",
       "  <tbody>\n",
       "    <tr>\n",
       "      <th>0</th>\n",
       "      <td>276725</td>\n",
       "      <td>034545104X</td>\n",
       "      <td>0</td>\n",
       "    </tr>\n",
       "    <tr>\n",
       "      <th>1</th>\n",
       "      <td>276726</td>\n",
       "      <td>0155061224</td>\n",
       "      <td>5</td>\n",
       "    </tr>\n",
       "    <tr>\n",
       "      <th>2</th>\n",
       "      <td>276727</td>\n",
       "      <td>0446520802</td>\n",
       "      <td>0</td>\n",
       "    </tr>\n",
       "    <tr>\n",
       "      <th>3</th>\n",
       "      <td>276729</td>\n",
       "      <td>052165615X</td>\n",
       "      <td>3</td>\n",
       "    </tr>\n",
       "    <tr>\n",
       "      <th>4</th>\n",
       "      <td>276729</td>\n",
       "      <td>0521795028</td>\n",
       "      <td>6</td>\n",
       "    </tr>\n",
       "  </tbody>\n",
       "</table>\n",
       "</div>"
      ],
      "text/plain": [
       "   userID        ISBN  bookRating\n",
       "0  276725  034545104X  0         \n",
       "1  276726  0155061224  5         \n",
       "2  276727  0446520802  0         \n",
       "3  276729  052165615X  3         \n",
       "4  276729  0521795028  6         "
      ]
     },
     "execution_count": 555,
     "metadata": {},
     "output_type": "execute_result"
    }
   ],
   "source": [
    "ratings_new = ratings_new[ratings_new.userID.isin(users.userID)]\n",
    "ratings_new.head()"
   ]
  },
  {
   "cell_type": "code",
   "execution_count": 556,
   "metadata": {},
   "outputs": [
    {
     "name": "stdout",
     "output_type": "stream",
     "text": [
      "(1149780, 3)\n",
      "(1031134, 3)\n"
     ]
    }
   ],
   "source": [
    "print(ratings.shape)\n",
    "print(ratings_new.shape)"
   ]
  },
  {
   "cell_type": "markdown",
   "metadata": {},
   "source": [
    "It is evident that the users have rated some of the books which are not part of the original books dataset. "
   ]
  },
  {
   "cell_type": "code",
   "execution_count": 557,
   "metadata": {},
   "outputs": [
    {
     "data": {
      "text/html": [
       "<div>\n",
       "<style scoped>\n",
       "    .dataframe tbody tr th:only-of-type {\n",
       "        vertical-align: middle;\n",
       "    }\n",
       "\n",
       "    .dataframe tbody tr th {\n",
       "        vertical-align: top;\n",
       "    }\n",
       "\n",
       "    .dataframe thead th {\n",
       "        text-align: right;\n",
       "    }\n",
       "</style>\n",
       "<table border=\"1\" class=\"dataframe\">\n",
       "  <thead>\n",
       "    <tr style=\"text-align: right;\">\n",
       "      <th></th>\n",
       "      <th>userID</th>\n",
       "      <th>ISBN</th>\n",
       "      <th>bookRating</th>\n",
       "    </tr>\n",
       "  </thead>\n",
       "  <tbody>\n",
       "    <tr>\n",
       "      <th>0</th>\n",
       "      <td>276725</td>\n",
       "      <td>034545104X</td>\n",
       "      <td>0</td>\n",
       "    </tr>\n",
       "    <tr>\n",
       "      <th>1</th>\n",
       "      <td>276726</td>\n",
       "      <td>0155061224</td>\n",
       "      <td>5</td>\n",
       "    </tr>\n",
       "    <tr>\n",
       "      <th>2</th>\n",
       "      <td>276727</td>\n",
       "      <td>0446520802</td>\n",
       "      <td>0</td>\n",
       "    </tr>\n",
       "    <tr>\n",
       "      <th>3</th>\n",
       "      <td>276729</td>\n",
       "      <td>052165615X</td>\n",
       "      <td>3</td>\n",
       "    </tr>\n",
       "    <tr>\n",
       "      <th>4</th>\n",
       "      <td>276729</td>\n",
       "      <td>0521795028</td>\n",
       "      <td>6</td>\n",
       "    </tr>\n",
       "  </tbody>\n",
       "</table>\n",
       "</div>"
      ],
      "text/plain": [
       "   userID        ISBN  bookRating\n",
       "0  276725  034545104X  0         \n",
       "1  276726  0155061224  5         \n",
       "2  276727  0446520802  0         \n",
       "3  276729  052165615X  3         \n",
       "4  276729  0521795028  6         "
      ]
     },
     "execution_count": 557,
     "metadata": {},
     "output_type": "execute_result"
    }
   ],
   "source": [
    "ratings_new.head()"
   ]
  },
  {
   "cell_type": "markdown",
   "metadata": {},
   "source": [
    "The explicit ratings represented by 1 - 10 and implicit ratings is represented by 0 will have to be segregated now. We will be using only explict ratings for building our recommendation system. \n",
    "Similarly, users are also segregated into those who rated explicitly and those whose implicit behaviour was recorded.\n",
    "We are using only explicit ratings and users who have rated for recommendation."
   ]
  },
  {
   "cell_type": "code",
   "execution_count": 558,
   "metadata": {},
   "outputs": [],
   "source": [
    "\n",
    "explicit_rating = ratings_new[ratings_new.bookRating != 0]\n"
   ]
  },
  {
   "cell_type": "code",
   "execution_count": 559,
   "metadata": {},
   "outputs": [
    {
     "name": "stdout",
     "output_type": "stream",
     "text": [
      "(383840, 3)\n"
     ]
    }
   ],
   "source": [
    "explicit_rating.head()\n",
    "print(explicit_rating.shape)"
   ]
  },
  {
   "cell_type": "code",
   "execution_count": 560,
   "metadata": {},
   "outputs": [
    {
     "data": {
      "text/html": [
       "<div>\n",
       "<style scoped>\n",
       "    .dataframe tbody tr th:only-of-type {\n",
       "        vertical-align: middle;\n",
       "    }\n",
       "\n",
       "    .dataframe tbody tr th {\n",
       "        vertical-align: top;\n",
       "    }\n",
       "\n",
       "    .dataframe thead th {\n",
       "        text-align: right;\n",
       "    }\n",
       "</style>\n",
       "<table border=\"1\" class=\"dataframe\">\n",
       "  <thead>\n",
       "    <tr style=\"text-align: right;\">\n",
       "      <th></th>\n",
       "      <th>userID</th>\n",
       "      <th>ISBN</th>\n",
       "      <th>bookRating</th>\n",
       "    </tr>\n",
       "  </thead>\n",
       "  <tbody>\n",
       "    <tr>\n",
       "      <th>1</th>\n",
       "      <td>276726</td>\n",
       "      <td>0155061224</td>\n",
       "      <td>5</td>\n",
       "    </tr>\n",
       "    <tr>\n",
       "      <th>3</th>\n",
       "      <td>276729</td>\n",
       "      <td>052165615X</td>\n",
       "      <td>3</td>\n",
       "    </tr>\n",
       "    <tr>\n",
       "      <th>4</th>\n",
       "      <td>276729</td>\n",
       "      <td>0521795028</td>\n",
       "      <td>6</td>\n",
       "    </tr>\n",
       "    <tr>\n",
       "      <th>8</th>\n",
       "      <td>276744</td>\n",
       "      <td>038550120X</td>\n",
       "      <td>7</td>\n",
       "    </tr>\n",
       "    <tr>\n",
       "      <th>16</th>\n",
       "      <td>276747</td>\n",
       "      <td>0060517794</td>\n",
       "      <td>9</td>\n",
       "    </tr>\n",
       "  </tbody>\n",
       "</table>\n",
       "</div>"
      ],
      "text/plain": [
       "    userID        ISBN  bookRating\n",
       "1   276726  0155061224  5         \n",
       "3   276729  052165615X  3         \n",
       "4   276729  0521795028  6         \n",
       "8   276744  038550120X  7         \n",
       "16  276747  0060517794  9         "
      ]
     },
     "execution_count": 560,
     "metadata": {},
     "output_type": "execute_result"
    }
   ],
   "source": [
    "ratings = explicit_rating\n",
    "ratings.head()"
   ]
  },
  {
   "cell_type": "code",
   "execution_count": 561,
   "metadata": {},
   "outputs": [
    {
     "data": {
      "image/png": "[encoded data removed]",
      "text/plain": [
       "<Figure size 720x360 with 1 Axes>"
      ]
     },
     "metadata": {
      "needs_background": "light"
     },
     "output_type": "display_data"
    }
   ],
   "source": [
    "rtg = ratings['bookRating'].value_counts().sort_index()\n",
    "\n",
    "plt.figure(figsize = (10,5))\n",
    "plt.rcParams.update({'font.size' : 15})\n",
    "plt.bar(rtg.index, rtg.values)\n",
    "plt.xlabel('Rating')\n",
    "plt.ylabel('Counts')\n",
    "plt.show()"
   ]
  },
  {
   "cell_type": "markdown",
   "metadata": {},
   "source": [
    "From the above graph we can see the majority of the users have rated in the range from 5 to 10."
   ]
  },
  {
   "cell_type": "code",
   "execution_count": 562,
   "metadata": {},
   "outputs": [
    {
     "data": {
      "text/plain": [
       "(383840, 3)"
      ]
     },
     "execution_count": 562,
     "metadata": {},
     "output_type": "execute_result"
    }
   ],
   "source": [
    "ratings.shape"
   ]
  },
  {
   "cell_type": "code",
   "execution_count": 563,
   "metadata": {},
   "outputs": [],
   "source": [
    "implicit_ratings = ratings_new[ratings_new.bookRating == 0]"
   ]
  },
  {
   "cell_type": "code",
   "execution_count": 564,
   "metadata": {},
   "outputs": [],
   "source": [
    "user_exp_ratings = users[users.userID.isin(ratings.userID)]\n"
   ]
  },
  {
   "cell_type": "code",
   "execution_count": 565,
   "metadata": {},
   "outputs": [
    {
     "data": {
      "text/html": [
       "<div>\n",
       "<style scoped>\n",
       "    .dataframe tbody tr th:only-of-type {\n",
       "        vertical-align: middle;\n",
       "    }\n",
       "\n",
       "    .dataframe tbody tr th {\n",
       "        vertical-align: top;\n",
       "    }\n",
       "\n",
       "    .dataframe thead th {\n",
       "        text-align: right;\n",
       "    }\n",
       "</style>\n",
       "<table border=\"1\" class=\"dataframe\">\n",
       "  <thead>\n",
       "    <tr style=\"text-align: right;\">\n",
       "      <th></th>\n",
       "      <th>userID</th>\n",
       "      <th>Age</th>\n",
       "      <th>city</th>\n",
       "      <th>state</th>\n",
       "      <th>country</th>\n",
       "    </tr>\n",
       "  </thead>\n",
       "  <tbody>\n",
       "    <tr>\n",
       "      <th>7</th>\n",
       "      <td>8</td>\n",
       "      <td>NaN</td>\n",
       "      <td>timmins</td>\n",
       "      <td>ontario</td>\n",
       "      <td>canada</td>\n",
       "    </tr>\n",
       "    <tr>\n",
       "      <th>8</th>\n",
       "      <td>9</td>\n",
       "      <td>NaN</td>\n",
       "      <td>germantown</td>\n",
       "      <td>tennessee</td>\n",
       "      <td>usa</td>\n",
       "    </tr>\n",
       "    <tr>\n",
       "      <th>11</th>\n",
       "      <td>12</td>\n",
       "      <td>NaN</td>\n",
       "      <td>fort bragg</td>\n",
       "      <td>california</td>\n",
       "      <td>usa</td>\n",
       "    </tr>\n",
       "    <tr>\n",
       "      <th>13</th>\n",
       "      <td>14</td>\n",
       "      <td>NaN</td>\n",
       "      <td>mediapolis</td>\n",
       "      <td>iowa</td>\n",
       "      <td>usa</td>\n",
       "    </tr>\n",
       "    <tr>\n",
       "      <th>15</th>\n",
       "      <td>16</td>\n",
       "      <td>NaN</td>\n",
       "      <td>albuquerque</td>\n",
       "      <td>new mexico</td>\n",
       "      <td>usa</td>\n",
       "    </tr>\n",
       "  </tbody>\n",
       "</table>\n",
       "</div>"
      ],
      "text/plain": [
       "    userID  Age         city        state  country\n",
       "7   8      NaN   timmins       ontario      canada\n",
       "8   9      NaN   germantown    tennessee    usa   \n",
       "11  12     NaN   fort bragg    california   usa   \n",
       "13  14     NaN   mediapolis    iowa         usa   \n",
       "15  16     NaN   albuquerque   new mexico   usa   "
      ]
     },
     "execution_count": 565,
     "metadata": {},
     "output_type": "execute_result"
    }
   ],
   "source": [
    "user_exp_ratings.head()"
   ]
  },
  {
   "cell_type": "code",
   "execution_count": 566,
   "metadata": {},
   "outputs": [
    {
     "data": {
      "text/plain": [
       "(68091, 5)"
      ]
     },
     "execution_count": 566,
     "metadata": {},
     "output_type": "execute_result"
    }
   ],
   "source": [
    "users = user_exp_ratings\n",
    "users.shape"
   ]
  },
  {
   "cell_type": "code",
   "execution_count": 567,
   "metadata": {},
   "outputs": [],
   "source": [
    "user_imp_ratings = users[users.userID.isin(implicit_ratings.userID)]"
   ]
  },
  {
   "cell_type": "markdown",
   "metadata": {},
   "source": [
    "So, we have explicit and implicit ratings and users seperately. Let us save all  the cleaned dataframes and store as csv file."
   ]
  },
  {
   "cell_type": "code",
   "execution_count": 568,
   "metadata": {},
   "outputs": [],
   "source": [
    "books.to_csv('../Datasets/cleaned_books.csv', index = False)"
   ]
  },
  {
   "cell_type": "code",
   "execution_count": 569,
   "metadata": {},
   "outputs": [],
   "source": [
    "users.to_csv('../Datasets/cleaned_users.csv', index = False)"
   ]
  },
  {
   "cell_type": "code",
   "execution_count": 570,
   "metadata": {},
   "outputs": [],
   "source": [
    "ratings.to_csv('../Datasets/cleaned_ratings.csv', index = False)"
   ]
  }
 ],
 "metadata": {
  "kernelspec": {
   "display_name": "Python 3",
   "language": "python",
   "name": "python3"
  },
  "language_info": {
   "codemirror_mode": {
    "name": "ipython",
    "version": 3
   },
   "file_extension": ".py",
   "mimetype": "text/x-python",
   "name": "python",
   "nbconvert_exporter": "python",
   "pygments_lexer": "ipython3",
   "version": "3.7.3"
  }
 },
 "nbformat": 4,
 "nbformat_minor": 2
}
